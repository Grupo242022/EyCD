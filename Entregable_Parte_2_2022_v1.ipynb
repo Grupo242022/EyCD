{
  "nbformat": 4,
  "nbformat_minor": 0,
  "metadata": {
    "colab": {
      "name": "Entregable_Parte_2_2022.ipynb",
      "provenance": [],
      "collapsed_sections": [],
      "include_colab_link": true
    },
    "kernelspec": {
      "name": "python3",
      "display_name": "Python 3"
    },
    "language_info": {
      "name": "python"
    }
  },
  "cells": [
    {
      "cell_type": "markdown",
      "metadata": {
        "id": "view-in-github",
        "colab_type": "text"
      },
      "source": [
        "<a href=\"https://colab.research.google.com/github/Grupo242022/EyCD/blob/main/Entregable_Parte_2_2022_v1.ipynb\" target=\"_parent\"><img src=\"https://colab.research.google.com/assets/colab-badge.svg\" alt=\"Open In Colab\"/></a>"
      ]
    },
    {
      "cell_type": "markdown",
      "metadata": {
        "id": "zO4bRoxr2Apy"
      },
      "source": [
        "\n",
        "# **Diplomatura en Ciencia de Datos, Aprendizaje Automático y sus Aplicaciones**\n",
        "\n",
        "# **Exploración y Curación de Datos**\n",
        "\n",
        "## Entregable # 2 Parte 2 - Ejercicio 1\n",
        "\n",
        "## GRUPO Nº24\n",
        "\n",
        "## INTEGRANTES:\n",
        "   - Clarisa Manzone\n",
        "   - Nico Rosales\n",
        "   - Daniel Rubio\n",
        "   - Diana Fonnegra   \n",
        "----\n",
        "\n",
        "# Trabajo práctico entregable - parte 2\n",
        "\n",
        "\n",
        "En el ejercicio 2 de la parte 1 del entregable seleccionaron las filas y columnas relevantes al problema de predicción de precios de una propiedad e imputaron los valores faltantes de las columnas `Suburb` y las columnas obtenidas a partir del conjunto de datos `airbnb`.\n",
        "\n",
        "En esta notebook, **se utilizará resultado de dichas operaciones.** que fue guardado en un archivo (Ejercicio 3 entregable 1). \n"
      ]
    },
    {
      "cell_type": "markdown",
      "source": [
        "# Rta//:\n",
        "\n",
        "### Carga del conjunto e importando librerías útiles."
      ],
      "metadata": {
        "id": "yoE0TdsImRMc"
      }
    },
    {
      "cell_type": "code",
      "metadata": {
        "id": "4udjxjk1EtVU"
      },
      "source": [
        "import matplotlib.pyplot as plt\n",
        "import numpy\n",
        "import pandas as pd\n",
        "\n",
        "import seaborn as sns\n",
        "sns.set_context('talk')"
      ],
      "execution_count": 4,
      "outputs": []
    },
    {
      "cell_type": "code",
      "metadata": {
        "colab": {
          "base_uri": "https://localhost:8080/",
          "height": 191
        },
        "id": "_qeFN3GnEvMk",
        "outputId": "bd3632d6-9883-45ba-dba9-a6e61db8e721"
      },
      "source": [
        "# Cargamos la BBDD creada en el practico anterior\n",
        "melb_df = pd.read_csv('https://github.com/Grupo242022/EyCD/blob/main/melb_data_extended.csv?raw=true')\n",
        "melb_df[:1]"
      ],
      "execution_count": 5,
      "outputs": [
        {
          "output_type": "execute_result",
          "data": {
            "text/plain": [
              "       Suburb       Address  Rooms Type      Price Method SellerG       Date  \\\n",
              "0  Abbotsford  85 Turner St      2    h  1480000.0      S  Biggin  3/12/2016   \n",
              "\n",
              "   Distance  Postcode  ...  YearBuilt  CouncilArea  Lattitude  Longtitude  \\\n",
              "0       2.5    3067.0  ...        NaN        Yarra   -37.7996    144.9984   \n",
              "\n",
              "              Regionname  Propertycount zipcode  airbnb_record_count  \\\n",
              "0  Northern Metropolitan         4019.0  3067.0                258.0   \n",
              "\n",
              "   airbnb_price_mean airbnb_price_median  \n",
              "0         130.624031               100.0  \n",
              "\n",
              "[1 rows x 25 columns]"
            ],
            "text/html": [
              "\n",
              "  <div id=\"df-0f18c778-9bc6-4d44-b90d-4c6e10cca3ac\">\n",
              "    <div class=\"colab-df-container\">\n",
              "      <div>\n",
              "<style scoped>\n",
              "    .dataframe tbody tr th:only-of-type {\n",
              "        vertical-align: middle;\n",
              "    }\n",
              "\n",
              "    .dataframe tbody tr th {\n",
              "        vertical-align: top;\n",
              "    }\n",
              "\n",
              "    .dataframe thead th {\n",
              "        text-align: right;\n",
              "    }\n",
              "</style>\n",
              "<table border=\"1\" class=\"dataframe\">\n",
              "  <thead>\n",
              "    <tr style=\"text-align: right;\">\n",
              "      <th></th>\n",
              "      <th>Suburb</th>\n",
              "      <th>Address</th>\n",
              "      <th>Rooms</th>\n",
              "      <th>Type</th>\n",
              "      <th>Price</th>\n",
              "      <th>Method</th>\n",
              "      <th>SellerG</th>\n",
              "      <th>Date</th>\n",
              "      <th>Distance</th>\n",
              "      <th>Postcode</th>\n",
              "      <th>...</th>\n",
              "      <th>YearBuilt</th>\n",
              "      <th>CouncilArea</th>\n",
              "      <th>Lattitude</th>\n",
              "      <th>Longtitude</th>\n",
              "      <th>Regionname</th>\n",
              "      <th>Propertycount</th>\n",
              "      <th>zipcode</th>\n",
              "      <th>airbnb_record_count</th>\n",
              "      <th>airbnb_price_mean</th>\n",
              "      <th>airbnb_price_median</th>\n",
              "    </tr>\n",
              "  </thead>\n",
              "  <tbody>\n",
              "    <tr>\n",
              "      <th>0</th>\n",
              "      <td>Abbotsford</td>\n",
              "      <td>85 Turner St</td>\n",
              "      <td>2</td>\n",
              "      <td>h</td>\n",
              "      <td>1480000.0</td>\n",
              "      <td>S</td>\n",
              "      <td>Biggin</td>\n",
              "      <td>3/12/2016</td>\n",
              "      <td>2.5</td>\n",
              "      <td>3067.0</td>\n",
              "      <td>...</td>\n",
              "      <td>NaN</td>\n",
              "      <td>Yarra</td>\n",
              "      <td>-37.7996</td>\n",
              "      <td>144.9984</td>\n",
              "      <td>Northern Metropolitan</td>\n",
              "      <td>4019.0</td>\n",
              "      <td>3067.0</td>\n",
              "      <td>258.0</td>\n",
              "      <td>130.624031</td>\n",
              "      <td>100.0</td>\n",
              "    </tr>\n",
              "  </tbody>\n",
              "</table>\n",
              "<p>1 rows × 25 columns</p>\n",
              "</div>\n",
              "      <button class=\"colab-df-convert\" onclick=\"convertToInteractive('df-0f18c778-9bc6-4d44-b90d-4c6e10cca3ac')\"\n",
              "              title=\"Convert this dataframe to an interactive table.\"\n",
              "              style=\"display:none;\">\n",
              "        \n",
              "  <svg xmlns=\"http://www.w3.org/2000/svg\" height=\"24px\"viewBox=\"0 0 24 24\"\n",
              "       width=\"24px\">\n",
              "    <path d=\"M0 0h24v24H0V0z\" fill=\"none\"/>\n",
              "    <path d=\"M18.56 5.44l.94 2.06.94-2.06 2.06-.94-2.06-.94-.94-2.06-.94 2.06-2.06.94zm-11 1L8.5 8.5l.94-2.06 2.06-.94-2.06-.94L8.5 2.5l-.94 2.06-2.06.94zm10 10l.94 2.06.94-2.06 2.06-.94-2.06-.94-.94-2.06-.94 2.06-2.06.94z\"/><path d=\"M17.41 7.96l-1.37-1.37c-.4-.4-.92-.59-1.43-.59-.52 0-1.04.2-1.43.59L10.3 9.45l-7.72 7.72c-.78.78-.78 2.05 0 2.83L4 21.41c.39.39.9.59 1.41.59.51 0 1.02-.2 1.41-.59l7.78-7.78 2.81-2.81c.8-.78.8-2.07 0-2.86zM5.41 20L4 18.59l7.72-7.72 1.47 1.35L5.41 20z\"/>\n",
              "  </svg>\n",
              "      </button>\n",
              "      \n",
              "  <style>\n",
              "    .colab-df-container {\n",
              "      display:flex;\n",
              "      flex-wrap:wrap;\n",
              "      gap: 12px;\n",
              "    }\n",
              "\n",
              "    .colab-df-convert {\n",
              "      background-color: #E8F0FE;\n",
              "      border: none;\n",
              "      border-radius: 50%;\n",
              "      cursor: pointer;\n",
              "      display: none;\n",
              "      fill: #1967D2;\n",
              "      height: 32px;\n",
              "      padding: 0 0 0 0;\n",
              "      width: 32px;\n",
              "    }\n",
              "\n",
              "    .colab-df-convert:hover {\n",
              "      background-color: #E2EBFA;\n",
              "      box-shadow: 0px 1px 2px rgba(60, 64, 67, 0.3), 0px 1px 3px 1px rgba(60, 64, 67, 0.15);\n",
              "      fill: #174EA6;\n",
              "    }\n",
              "\n",
              "    [theme=dark] .colab-df-convert {\n",
              "      background-color: #3B4455;\n",
              "      fill: #D2E3FC;\n",
              "    }\n",
              "\n",
              "    [theme=dark] .colab-df-convert:hover {\n",
              "      background-color: #434B5C;\n",
              "      box-shadow: 0px 1px 3px 1px rgba(0, 0, 0, 0.15);\n",
              "      filter: drop-shadow(0px 1px 2px rgba(0, 0, 0, 0.3));\n",
              "      fill: #FFFFFF;\n",
              "    }\n",
              "  </style>\n",
              "\n",
              "      <script>\n",
              "        const buttonEl =\n",
              "          document.querySelector('#df-0f18c778-9bc6-4d44-b90d-4c6e10cca3ac button.colab-df-convert');\n",
              "        buttonEl.style.display =\n",
              "          google.colab.kernel.accessAllowed ? 'block' : 'none';\n",
              "\n",
              "        async function convertToInteractive(key) {\n",
              "          const element = document.querySelector('#df-0f18c778-9bc6-4d44-b90d-4c6e10cca3ac');\n",
              "          const dataTable =\n",
              "            await google.colab.kernel.invokeFunction('convertToInteractive',\n",
              "                                                     [key], {});\n",
              "          if (!dataTable) return;\n",
              "\n",
              "          const docLinkHtml = 'Like what you see? Visit the ' +\n",
              "            '<a target=\"_blank\" href=https://colab.research.google.com/notebooks/data_table.ipynb>data table notebook</a>'\n",
              "            + ' to learn more about interactive tables.';\n",
              "          element.innerHTML = '';\n",
              "          dataTable['output_type'] = 'display_data';\n",
              "          await google.colab.output.renderOutput(dataTable, element);\n",
              "          const docLink = document.createElement('div');\n",
              "          docLink.innerHTML = docLinkHtml;\n",
              "          element.appendChild(docLink);\n",
              "        }\n",
              "      </script>\n",
              "    </div>\n",
              "  </div>\n",
              "  "
            ]
          },
          "metadata": {},
          "execution_count": 5
        }
      ]
    },
    {
      "cell_type": "markdown",
      "metadata": {
        "id": "s-mixICN22kA"
      },
      "source": [
        "## Ejercicio 1: Encoding\n",
        "\n",
        "1. Seleccionar todas las filas y columnas del conjunto de datos obtenido en la parte 1 del entregable, **excepto** `BuildingArea` y `YearBuilt`, que volveremos a imputar más adelante.\n",
        "\n",
        "2. Aplicar una codificación One-hot encoding a cada fila, tanto para variables numéricas como categóricas. Si lo consideran necesario, pueden volver a reducir el número de categorías únicas.\n",
        "\n",
        "Algunas opciones:\n",
        "  1. Utilizar `OneHotEncoder` junto con el parámetro `categories` para las variables categóricas y luego usar `numpy.hstack` para concatenar el resultado con las variables numéricas. \n",
        "  2. `DictVectorizer` con algunos pasos de pre-proceso previo.\n",
        "\n",
        "Recordar también que el atributo `pandas.DataFrame.values` permite acceder a la matriz de numpy subyacente a un DataFrame.\n"
      ]
    },
    {
      "cell_type": "markdown",
      "source": [
        "# Rta//:\n",
        "Para realizar este proceso haremos uso de `DictVectorizer` el cual codifica automáticamente todos las columnas categóricas y los combinan con los datos numéricos existentes."
      ],
      "metadata": {
        "id": "9WdOVG0s3FLB"
      }
    },
    {
      "cell_type": "code",
      "source": [
        "# Consulta de los tipos de datos:\n",
        "melb_df.info()"
      ],
      "metadata": {
        "colab": {
          "base_uri": "https://localhost:8080/"
        },
        "id": "N-VUDLzxxa5x",
        "outputId": "e387cbda-70d8-49a0-bd64-c77cbf2ffd42"
      },
      "execution_count": 6,
      "outputs": [
        {
          "output_type": "stream",
          "name": "stdout",
          "text": [
            "<class 'pandas.core.frame.DataFrame'>\n",
            "RangeIndex: 12138 entries, 0 to 12137\n",
            "Data columns (total 25 columns):\n",
            " #   Column               Non-Null Count  Dtype  \n",
            "---  ------               --------------  -----  \n",
            " 0   Suburb               12138 non-null  object \n",
            " 1   Address              12138 non-null  object \n",
            " 2   Rooms                12138 non-null  int64  \n",
            " 3   Type                 12138 non-null  object \n",
            " 4   Price                12138 non-null  float64\n",
            " 5   Method               12138 non-null  object \n",
            " 6   SellerG              12138 non-null  object \n",
            " 7   Date                 12138 non-null  object \n",
            " 8   Distance             12138 non-null  float64\n",
            " 9   Postcode             12138 non-null  float64\n",
            " 10  Bedroom2             12138 non-null  float64\n",
            " 11  Bathroom             12138 non-null  float64\n",
            " 12  Car                  12138 non-null  float64\n",
            " 13  Landsize             12138 non-null  float64\n",
            " 14  BuildingArea         6316 non-null   float64\n",
            " 15  YearBuilt            7243 non-null   float64\n",
            " 16  CouncilArea          10940 non-null  object \n",
            " 17  Lattitude            12138 non-null  float64\n",
            " 18  Longtitude           12138 non-null  float64\n",
            " 19  Regionname           12138 non-null  object \n",
            " 20  Propertycount        12138 non-null  float64\n",
            " 21  zipcode              12138 non-null  float64\n",
            " 22  airbnb_record_count  12138 non-null  float64\n",
            " 23  airbnb_price_mean    12138 non-null  float64\n",
            " 24  airbnb_price_median  12138 non-null  float64\n",
            "dtypes: float64(16), int64(1), object(8)\n",
            "memory usage: 2.3+ MB\n"
          ]
        }
      ]
    },
    {
      "cell_type": "markdown",
      "source": [
        "### *Realizamos algunas consultas básicas:"
      ],
      "metadata": {
        "id": "YvPxLUQd3pem"
      }
    },
    {
      "cell_type": "code",
      "metadata": {
        "id": "K_Qk43aLIl4d"
      },
      "source": [
        "categorical_cols = ['Type', 'Suburb','Address','Method','SellerG','Regionname','CouncilArea']"
      ],
      "execution_count": 7,
      "outputs": []
    },
    {
      "cell_type": "code",
      "metadata": {
        "colab": {
          "base_uri": "https://localhost:8080/"
        },
        "id": "oSNfW1BBJnV0",
        "outputId": "11911c4c-4093-49ab-ad4e-aff2f3de0540"
      },
      "source": [
        "melb_df[categorical_cols].nunique()"
      ],
      "execution_count": 8,
      "outputs": [
        {
          "output_type": "execute_result",
          "data": {
            "text/plain": [
              "Type               3\n",
              "Suburb           304\n",
              "Address        11973\n",
              "Method             5\n",
              "SellerG          256\n",
              "Regionname         8\n",
              "CouncilArea       31\n",
              "dtype: int64"
            ]
          },
          "metadata": {},
          "execution_count": 8
        }
      ]
    },
    {
      "cell_type": "code",
      "metadata": {
        "colab": {
          "base_uri": "https://localhost:8080/"
        },
        "id": "XPDDOVHNNywn",
        "outputId": "ffd6f093-f436-4bfd-d4f2-f1dcfcc6e22d"
      },
      "source": [
        "# Check for nulls\n",
        "melb_df[categorical_cols].isna().sum()"
      ],
      "execution_count": 9,
      "outputs": [
        {
          "output_type": "execute_result",
          "data": {
            "text/plain": [
              "Type              0\n",
              "Suburb            0\n",
              "Address           0\n",
              "Method            0\n",
              "SellerG           0\n",
              "Regionname        0\n",
              "CouncilArea    1198\n",
              "dtype: int64"
            ]
          },
          "metadata": {},
          "execution_count": 9
        }
      ]
    },
    {
      "cell_type": "code",
      "source": [
        "feature_dict = list(melb_df.T.to_dict().values())\n",
        "\n",
        "# Consulta de los dos primeros registros\n",
        "feature_dict[:2]"
      ],
      "metadata": {
        "colab": {
          "base_uri": "https://localhost:8080/"
        },
        "id": "hVAELIK84GCd",
        "outputId": "1ea22bea-c6d9-4d63-bf18-a98781990ce3"
      },
      "execution_count": 10,
      "outputs": [
        {
          "output_type": "execute_result",
          "data": {
            "text/plain": [
              "[{'Address': '85 Turner St',\n",
              "  'Bathroom': 1.0,\n",
              "  'Bedroom2': 2.0,\n",
              "  'BuildingArea': nan,\n",
              "  'Car': 1.0,\n",
              "  'CouncilArea': 'Yarra',\n",
              "  'Date': '3/12/2016',\n",
              "  'Distance': 2.5,\n",
              "  'Landsize': 202.0,\n",
              "  'Lattitude': -37.7996,\n",
              "  'Longtitude': 144.9984,\n",
              "  'Method': 'S',\n",
              "  'Postcode': 3067.0,\n",
              "  'Price': 1480000.0,\n",
              "  'Propertycount': 4019.0,\n",
              "  'Regionname': 'Northern Metropolitan',\n",
              "  'Rooms': 2,\n",
              "  'SellerG': 'Biggin',\n",
              "  'Suburb': 'Abbotsford',\n",
              "  'Type': 'h',\n",
              "  'YearBuilt': nan,\n",
              "  'airbnb_price_mean': 130.62403100775194,\n",
              "  'airbnb_price_median': 100.0,\n",
              "  'airbnb_record_count': 258.0,\n",
              "  'zipcode': 3067.0},\n",
              " {'Address': '25 Bloomburg St',\n",
              "  'Bathroom': 1.0,\n",
              "  'Bedroom2': 2.0,\n",
              "  'BuildingArea': 79.0,\n",
              "  'Car': 0.0,\n",
              "  'CouncilArea': 'Yarra',\n",
              "  'Date': '4/02/2016',\n",
              "  'Distance': 2.5,\n",
              "  'Landsize': 156.0,\n",
              "  'Lattitude': -37.8079,\n",
              "  'Longtitude': 144.9934,\n",
              "  'Method': 'S',\n",
              "  'Postcode': 3067.0,\n",
              "  'Price': 1035000.0,\n",
              "  'Propertycount': 4019.0,\n",
              "  'Regionname': 'Northern Metropolitan',\n",
              "  'Rooms': 2,\n",
              "  'SellerG': 'Biggin',\n",
              "  'Suburb': 'Abbotsford',\n",
              "  'Type': 'h',\n",
              "  'YearBuilt': 1900.0,\n",
              "  'airbnb_price_mean': 130.62403100775194,\n",
              "  'airbnb_price_median': 100.0,\n",
              "  'airbnb_record_count': 258.0,\n",
              "  'zipcode': 3067.0}]"
            ]
          },
          "metadata": {},
          "execution_count": 10
        }
      ]
    },
    {
      "cell_type": "code",
      "source": [
        "from sklearn.feature_extraction import DictVectorizer\n",
        "vec = DictVectorizer(sparse=False)\n",
        "feature_matrix = vec.fit_transform(feature_dict)"
      ],
      "metadata": {
        "id": "TUemdJaC-eXA"
      },
      "execution_count": 22,
      "outputs": []
    },
    {
      "cell_type": "code",
      "source": [
        "vec.get_feature_names()[:10] "
      ],
      "metadata": {
        "colab": {
          "base_uri": "https://localhost:8080/"
        },
        "id": "YqPzRY46_bXr",
        "outputId": "b602e3d6-e914-4b9d-ce36-82a011e1cfec"
      },
      "execution_count": 23,
      "outputs": [
        {
          "output_type": "stream",
          "name": "stderr",
          "text": [
            "/usr/local/lib/python3.7/dist-packages/sklearn/utils/deprecation.py:87: FutureWarning: Function get_feature_names is deprecated; get_feature_names is deprecated in 1.0 and will be removed in 1.2. Please use get_feature_names_out instead.\n",
            "  warnings.warn(msg, category=FutureWarning)\n"
          ]
        },
        {
          "output_type": "execute_result",
          "data": {
            "text/plain": [
              "['Address=1 Adelle Ct',\n",
              " 'Address=1 Airlie St',\n",
              " 'Address=1 Albion Ct',\n",
              " 'Address=1 Alexander St',\n",
              " 'Address=1 Alma St',\n",
              " 'Address=1 Ann St',\n",
              " 'Address=1 Arthur St',\n",
              " 'Address=1 Ash Gr',\n",
              " 'Address=1 Ashdown Ct',\n",
              " 'Address=1 Aspen St']"
            ]
          },
          "metadata": {},
          "execution_count": 23
        }
      ]
    },
    {
      "cell_type": "code",
      "source": [
        "# Fill nan values on sparse matrix.\n",
        "if numpy.any(numpy.isnan(feature_matrix.data)):\n",
        "    feature_matrix.data = numpy.nan_to_num(feature_matrix.data)"
      ],
      "metadata": {
        "colab": {
          "base_uri": "https://localhost:8080/"
        },
        "id": "EbfcrkzJ_mHd",
        "outputId": "83d7c4e2-0792-4dea-96f0-c6d0a2987c51"
      },
      "execution_count": 24,
      "outputs": [
        {
          "output_type": "stream",
          "name": "stderr",
          "text": [
            "/usr/local/lib/python3.7/dist-packages/ipykernel_launcher.py:3: DeprecationWarning: Assigning the 'data' attribute is an inherently unsafe operation and will be removed in the future.\n",
            "  This is separate from the ipykernel package so we can avoid doing imports until\n"
          ]
        }
      ]
    },
    {
      "cell_type": "markdown",
      "metadata": {
        "id": "ismngxPcfoWb"
      },
      "source": [
        "## Ejercicio 2: Imputación por KNN\n",
        "\n",
        "En el teórico se presentó el método `IterativeImputer` para imputar valores faltantes en variables numéricas. Sin embargo, los ejemplos presentados sólo utilizaban algunas variables numéricas presentes en el conjunto de datos. En este ejercicio, utilizaremos la matriz de datos codificada para imputar datos faltantes de manera más precisa.\n",
        "\n",
        "1. Agregue a la matriz obtenida en el punto anterior las columnas `YearBuilt` y `BuildingArea`.\n",
        "2. Aplique una instancia de `IterativeImputer` con un estimador `KNeighborsRegressor` para imputar los valores de las variables. ¿Es necesario estandarizar o escalar los datos previamente?\n",
        "3. Realice un gráfico mostrando la distribución de cada variable antes de ser imputada, y con ambos métodos de imputación."
      ]
    },
    {
      "cell_type": "code",
      "metadata": {
        "id": "G4ClSr_JapCw",
        "colab": {
          "base_uri": "https://localhost:8080/"
        },
        "outputId": "6c3171e2-3941-4041-a3e0-8e0854c7dc9d"
      },
      "source": [
        "from sklearn.experimental import enable_iterative_imputer\n",
        "from sklearn.neighbors import KNeighborsRegressor\n",
        "from sklearn.impute import IterativeImputer\n",
        "\n",
        "melb_data_mice = melb_df.copy(deep=True)\n",
        "\n",
        "mice_imputer = IterativeImputer(random_state=0, estimator=KNeighborsRegressor())\n",
        "melb_data_mice[['YearBuilt','BuildingArea']] = mice_imputer.fit_transform(\n",
        "    melb_data_mice[['YearBuilt', 'BuildingArea']])"
      ],
      "execution_count": 48,
      "outputs": [
        {
          "output_type": "stream",
          "name": "stderr",
          "text": [
            "/usr/local/lib/python3.7/dist-packages/sklearn/impute/_iterative.py:701: ConvergenceWarning: [IterativeImputer] Early stopping criterion not reached.\n",
            "  ConvergenceWarning,\n"
          ]
        }
      ]
    },
    {
      "cell_type": "code",
      "source": [
        "mice_year_built = melb_data_mice.YearBuilt.to_frame()\n",
        "mice_year_built['Imputation'] = 'KNN over YearBuilt and BuildingArea'\n",
        "melb_year_build = melb_df.YearBuilt.dropna().to_frame()\n",
        "melb_year_build['Imputation'] = 'Original'\n"
      ],
      "metadata": {
        "id": "zp-luyJoHosO"
      },
      "execution_count": 49,
      "outputs": []
    },
    {
      "cell_type": "code",
      "source": [
        "df = pd.concat([mice_year_built, melb_year_build])\n",
        "df = df.reset_index()\n",
        "df.columns\n"
      ],
      "metadata": {
        "id": "Kgq8b69I0WtO",
        "outputId": "43d13067-c072-4651-f34b-a03007ea398b",
        "colab": {
          "base_uri": "https://localhost:8080/"
        }
      },
      "execution_count": 55,
      "outputs": [
        {
          "output_type": "execute_result",
          "data": {
            "text/plain": [
              "Index(['index', 'YearBuilt', 'Imputation'], dtype='object')"
            ]
          },
          "metadata": {},
          "execution_count": 55
        }
      ]
    },
    {
      "cell_type": "markdown",
      "metadata": {
        "id": "ImjXQZUbVoKH"
      },
      "source": [
        "Ejemplo de gráfico comparando las distribuciones de datos obtenidas con cada método de imputación."
      ]
    },
    {
      "cell_type": "code",
      "source": [
        "fig = plt.figure(figsize=(8, 5))\n",
        "g = sns.kdeplot(data=df, x='YearBuilt', hue='Imputation')"
      ],
      "metadata": {
        "id": "mNqU54YS4X7e",
        "outputId": "a9b37d0e-edc0-40c4-c0ee-f04f78ac17b2",
        "colab": {
          "base_uri": "https://localhost:8080/",
          "height": 355
        }
      },
      "execution_count": 56,
      "outputs": [
        {
          "output_type": "display_data",
          "data": {
            "text/plain": [
              "<Figure size 576x360 with 1 Axes>"
            ],
            "image/png": "[encoded data removed]"
          },
          "metadata": {
            "needs_background": "light"
          }
        }
      ]
    },
    {
      "cell_type": "markdown",
      "metadata": {
        "id": "NBN7-5OIxjJW"
      },
      "source": [
        "## Ejercicio 3: Reducción de dimensionalidad.\n",
        "\n",
        "Utilizando la matriz obtenida en el ejercicio anterior:\n",
        "1. Aplique `PCA` para obtener $n$ componentes principales de la matriz, donde `n = min(20, X.shape[0])`. ¿Es necesario estandarizar o escalar los datos?\n",
        "2. Grafique la varianza capturada por los primeros $n$ componentes principales, para cada $n$.\n",
        "3. En base al gráfico, seleccione las primeras $m$ columnas de la matriz transformada para agregar como nuevas características al conjunto de datos."
      ]
    },
    {
      "cell_type": "markdown",
      "metadata": {
        "id": "WrZTYmG_ZyDy"
      },
      "source": [
        "## Ejercicio 4: Composición del resultado\n",
        "\n",
        "Transformar nuevamente el conjunto de datos procesado en un `pandas.DataFrame` y guardarlo en un archivo.\n",
        "\n",
        "Para eso, será necesario recordar el nombre original de cada columna de la matriz, en el orden correcto. Tener en cuenta:\n",
        "1. El método `OneHotEncoder.get_feature_names` o el atributo `OneHotEncoder.categories_` permiten obtener una lista con los valores de la categoría que le corresponde a cada índice de la matriz.\n",
        "2. Ninguno de los métodos aplicados intercambia de lugar las columnas o las filas de la matriz."
      ]
    },
    {
      "cell_type": "code",
      "metadata": {
        "id": "DfchYPgTxvQ4",
        "colab": {
          "base_uri": "https://localhost:8080/",
          "height": 340
        },
        "outputId": "04e01823-b316-4246-e598-90b05b6a90d4"
      },
      "source": [
        "## Small example\n",
        "from sklearn.decomposition import PCA\n",
        "from sklearn.preprocessing import OneHotEncoder\n",
        "\n",
        "## If we process our data with the following steps:\n",
        "categorical_cols = ['Type', 'Regionname']\n",
        "numerical_cols = ['Rooms', 'Distance']\n",
        "new_columns = []\n",
        "\n",
        "# Step 1: encode categorical columns\n",
        "encoder = OneHotEncoder(handle_unknown='ignore', sparse=False)\n",
        "X_cat = encoder.fit_transform(melb_df[categorical_cols])\n",
        "for col, col_values in zip(categorical_cols, encoder.categories_):\n",
        "  for col_value in col_values:\n",
        "    new_columns.append('{}={}'.format(col, col_value))\n",
        "print(\"Matrix has shape {}, with columns: {}\".format(X_cat.shape, new_columns))\n",
        "\n",
        "# Step 2: Append the numerical columns\n",
        "X = numpy.hstack([X_cat, melb_df[numerical_cols].values])\n",
        "new_columns.extend(numerical_cols)\n",
        "print(\"Matrix has shape {}, with columns: {}\".format(X_cat.shape, new_columns))\n",
        "\n",
        "# Step 3: Append some new features, like PCA\n",
        "pca = PCA(n_components=2)\n",
        "pca_dummy_features = pca.fit_transform(X)\n",
        "X_pca = numpy.hstack([X, pca_dummy_features])\n",
        "new_columns.extend(['pca1', 'pca2'])\n",
        "\n",
        "## Re-build dataframe\n",
        "processed_melb_df = pd.DataFrame(data=X_pca, columns=new_columns)\n",
        "processed_melb_df.head()"
      ],
      "execution_count": 58,
      "outputs": [
        {
          "output_type": "stream",
          "name": "stdout",
          "text": [
            "Matrix has shape (12138, 11), with columns: ['Type=h', 'Type=t', 'Type=u', 'Regionname=Eastern Metropolitan', 'Regionname=Eastern Victoria', 'Regionname=Northern Metropolitan', 'Regionname=Northern Victoria', 'Regionname=South-Eastern Metropolitan', 'Regionname=Southern Metropolitan', 'Regionname=Western Metropolitan', 'Regionname=Western Victoria']\n",
            "Matrix has shape (12138, 11), with columns: ['Type=h', 'Type=t', 'Type=u', 'Regionname=Eastern Metropolitan', 'Regionname=Eastern Victoria', 'Regionname=Northern Metropolitan', 'Regionname=Northern Victoria', 'Regionname=South-Eastern Metropolitan', 'Regionname=Southern Metropolitan', 'Regionname=Western Metropolitan', 'Regionname=Western Victoria', 'Rooms', 'Distance']\n"
          ]
        },
        {
          "output_type": "execute_result",
          "data": {
            "text/plain": [
              "   Type=h  Type=t  Type=u  Regionname=Eastern Metropolitan  \\\n",
              "0     1.0     0.0     0.0                              0.0   \n",
              "1     1.0     0.0     0.0                              0.0   \n",
              "2     1.0     0.0     0.0                              0.0   \n",
              "3     1.0     0.0     0.0                              0.0   \n",
              "4     1.0     0.0     0.0                              0.0   \n",
              "\n",
              "   Regionname=Eastern Victoria  Regionname=Northern Metropolitan  \\\n",
              "0                          0.0                               1.0   \n",
              "1                          0.0                               1.0   \n",
              "2                          0.0                               1.0   \n",
              "3                          0.0                               1.0   \n",
              "4                          0.0                               1.0   \n",
              "\n",
              "   Regionname=Northern Victoria  Regionname=South-Eastern Metropolitan  \\\n",
              "0                           0.0                                    0.0   \n",
              "1                           0.0                                    0.0   \n",
              "2                           0.0                                    0.0   \n",
              "3                           0.0                                    0.0   \n",
              "4                           0.0                                    0.0   \n",
              "\n",
              "   Regionname=Southern Metropolitan  Regionname=Western Metropolitan  \\\n",
              "0                               0.0                              0.0   \n",
              "1                               0.0                              0.0   \n",
              "2                               0.0                              0.0   \n",
              "3                               0.0                              0.0   \n",
              "4                               0.0                              0.0   \n",
              "\n",
              "   Regionname=Western Victoria  Rooms  Distance      pca1      pca2  \n",
              "0                          0.0    2.0       2.5 -7.823589 -0.248215  \n",
              "1                          0.0    2.0       2.5 -7.823589 -0.248215  \n",
              "2                          0.0    3.0       2.5 -7.772913  0.651436  \n",
              "3                          0.0    3.0       2.5 -7.772913  0.651436  \n",
              "4                          0.0    4.0       2.5 -7.722237  1.551087  "
            ],
            "text/html": [
              "\n",
              "  <div id=\"df-9b362aee-5d85-4218-a8e0-01167c4496fd\">\n",
              "    <div class=\"colab-df-container\">\n",
              "      <div>\n",
              "<style scoped>\n",
              "    .dataframe tbody tr th:only-of-type {\n",
              "        vertical-align: middle;\n",
              "    }\n",
              "\n",
              "    .dataframe tbody tr th {\n",
              "        vertical-align: top;\n",
              "    }\n",
              "\n",
              "    .dataframe thead th {\n",
              "        text-align: right;\n",
              "    }\n",
              "</style>\n",
              "<table border=\"1\" class=\"dataframe\">\n",
              "  <thead>\n",
              "    <tr style=\"text-align: right;\">\n",
              "      <th></th>\n",
              "      <th>Type=h</th>\n",
              "      <th>Type=t</th>\n",
              "      <th>Type=u</th>\n",
              "      <th>Regionname=Eastern Metropolitan</th>\n",
              "      <th>Regionname=Eastern Victoria</th>\n",
              "      <th>Regionname=Northern Metropolitan</th>\n",
              "      <th>Regionname=Northern Victoria</th>\n",
              "      <th>Regionname=South-Eastern Metropolitan</th>\n",
              "      <th>Regionname=Southern Metropolitan</th>\n",
              "      <th>Regionname=Western Metropolitan</th>\n",
              "      <th>Regionname=Western Victoria</th>\n",
              "      <th>Rooms</th>\n",
              "      <th>Distance</th>\n",
              "      <th>pca1</th>\n",
              "      <th>pca2</th>\n",
              "    </tr>\n",
              "  </thead>\n",
              "  <tbody>\n",
              "    <tr>\n",
              "      <th>0</th>\n",
              "      <td>1.0</td>\n",
              "      <td>0.0</td>\n",
              "      <td>0.0</td>\n",
              "      <td>0.0</td>\n",
              "      <td>0.0</td>\n",
              "      <td>1.0</td>\n",
              "      <td>0.0</td>\n",
              "      <td>0.0</td>\n",
              "      <td>0.0</td>\n",
              "      <td>0.0</td>\n",
              "      <td>0.0</td>\n",
              "      <td>2.0</td>\n",
              "      <td>2.5</td>\n",
              "      <td>-7.823589</td>\n",
              "      <td>-0.248215</td>\n",
              "    </tr>\n",
              "    <tr>\n",
              "      <th>1</th>\n",
              "      <td>1.0</td>\n",
              "      <td>0.0</td>\n",
              "      <td>0.0</td>\n",
              "      <td>0.0</td>\n",
              "      <td>0.0</td>\n",
              "      <td>1.0</td>\n",
              "      <td>0.0</td>\n",
              "      <td>0.0</td>\n",
              "      <td>0.0</td>\n",
              "      <td>0.0</td>\n",
              "      <td>0.0</td>\n",
              "      <td>2.0</td>\n",
              "      <td>2.5</td>\n",
              "      <td>-7.823589</td>\n",
              "      <td>-0.248215</td>\n",
              "    </tr>\n",
              "    <tr>\n",
              "      <th>2</th>\n",
              "      <td>1.0</td>\n",
              "      <td>0.0</td>\n",
              "      <td>0.0</td>\n",
              "      <td>0.0</td>\n",
              "      <td>0.0</td>\n",
              "      <td>1.0</td>\n",
              "      <td>0.0</td>\n",
              "      <td>0.0</td>\n",
              "      <td>0.0</td>\n",
              "      <td>0.0</td>\n",
              "      <td>0.0</td>\n",
              "      <td>3.0</td>\n",
              "      <td>2.5</td>\n",
              "      <td>-7.772913</td>\n",
              "      <td>0.651436</td>\n",
              "    </tr>\n",
              "    <tr>\n",
              "      <th>3</th>\n",
              "      <td>1.0</td>\n",
              "      <td>0.0</td>\n",
              "      <td>0.0</td>\n",
              "      <td>0.0</td>\n",
              "      <td>0.0</td>\n",
              "      <td>1.0</td>\n",
              "      <td>0.0</td>\n",
              "      <td>0.0</td>\n",
              "      <td>0.0</td>\n",
              "      <td>0.0</td>\n",
              "      <td>0.0</td>\n",
              "      <td>3.0</td>\n",
              "      <td>2.5</td>\n",
              "      <td>-7.772913</td>\n",
              "      <td>0.651436</td>\n",
              "    </tr>\n",
              "    <tr>\n",
              "      <th>4</th>\n",
              "      <td>1.0</td>\n",
              "      <td>0.0</td>\n",
              "      <td>0.0</td>\n",
              "      <td>0.0</td>\n",
              "      <td>0.0</td>\n",
              "      <td>1.0</td>\n",
              "      <td>0.0</td>\n",
              "      <td>0.0</td>\n",
              "      <td>0.0</td>\n",
              "      <td>0.0</td>\n",
              "      <td>0.0</td>\n",
              "      <td>4.0</td>\n",
              "      <td>2.5</td>\n",
              "      <td>-7.722237</td>\n",
              "      <td>1.551087</td>\n",
              "    </tr>\n",
              "  </tbody>\n",
              "</table>\n",
              "</div>\n",
              "      <button class=\"colab-df-convert\" onclick=\"convertToInteractive('df-9b362aee-5d85-4218-a8e0-01167c4496fd')\"\n",
              "              title=\"Convert this dataframe to an interactive table.\"\n",
              "              style=\"display:none;\">\n",
              "        \n",
              "  <svg xmlns=\"http://www.w3.org/2000/svg\" height=\"24px\"viewBox=\"0 0 24 24\"\n",
              "       width=\"24px\">\n",
              "    <path d=\"M0 0h24v24H0V0z\" fill=\"none\"/>\n",
              "    <path d=\"M18.56 5.44l.94 2.06.94-2.06 2.06-.94-2.06-.94-.94-2.06-.94 2.06-2.06.94zm-11 1L8.5 8.5l.94-2.06 2.06-.94-2.06-.94L8.5 2.5l-.94 2.06-2.06.94zm10 10l.94 2.06.94-2.06 2.06-.94-2.06-.94-.94-2.06-.94 2.06-2.06.94z\"/><path d=\"M17.41 7.96l-1.37-1.37c-.4-.4-.92-.59-1.43-.59-.52 0-1.04.2-1.43.59L10.3 9.45l-7.72 7.72c-.78.78-.78 2.05 0 2.83L4 21.41c.39.39.9.59 1.41.59.51 0 1.02-.2 1.41-.59l7.78-7.78 2.81-2.81c.8-.78.8-2.07 0-2.86zM5.41 20L4 18.59l7.72-7.72 1.47 1.35L5.41 20z\"/>\n",
              "  </svg>\n",
              "      </button>\n",
              "      \n",
              "  <style>\n",
              "    .colab-df-container {\n",
              "      display:flex;\n",
              "      flex-wrap:wrap;\n",
              "      gap: 12px;\n",
              "    }\n",
              "\n",
              "    .colab-df-convert {\n",
              "      background-color: #E8F0FE;\n",
              "      border: none;\n",
              "      border-radius: 50%;\n",
              "      cursor: pointer;\n",
              "      display: none;\n",
              "      fill: #1967D2;\n",
              "      height: 32px;\n",
              "      padding: 0 0 0 0;\n",
              "      width: 32px;\n",
              "    }\n",
              "\n",
              "    .colab-df-convert:hover {\n",
              "      background-color: #E2EBFA;\n",
              "      box-shadow: 0px 1px 2px rgba(60, 64, 67, 0.3), 0px 1px 3px 1px rgba(60, 64, 67, 0.15);\n",
              "      fill: #174EA6;\n",
              "    }\n",
              "\n",
              "    [theme=dark] .colab-df-convert {\n",
              "      background-color: #3B4455;\n",
              "      fill: #D2E3FC;\n",
              "    }\n",
              "\n",
              "    [theme=dark] .colab-df-convert:hover {\n",
              "      background-color: #434B5C;\n",
              "      box-shadow: 0px 1px 3px 1px rgba(0, 0, 0, 0.15);\n",
              "      filter: drop-shadow(0px 1px 2px rgba(0, 0, 0, 0.3));\n",
              "      fill: #FFFFFF;\n",
              "    }\n",
              "  </style>\n",
              "\n",
              "      <script>\n",
              "        const buttonEl =\n",
              "          document.querySelector('#df-9b362aee-5d85-4218-a8e0-01167c4496fd button.colab-df-convert');\n",
              "        buttonEl.style.display =\n",
              "          google.colab.kernel.accessAllowed ? 'block' : 'none';\n",
              "\n",
              "        async function convertToInteractive(key) {\n",
              "          const element = document.querySelector('#df-9b362aee-5d85-4218-a8e0-01167c4496fd');\n",
              "          const dataTable =\n",
              "            await google.colab.kernel.invokeFunction('convertToInteractive',\n",
              "                                                     [key], {});\n",
              "          if (!dataTable) return;\n",
              "\n",
              "          const docLinkHtml = 'Like what you see? Visit the ' +\n",
              "            '<a target=\"_blank\" href=https://colab.research.google.com/notebooks/data_table.ipynb>data table notebook</a>'\n",
              "            + ' to learn more about interactive tables.';\n",
              "          element.innerHTML = '';\n",
              "          dataTable['output_type'] = 'display_data';\n",
              "          await google.colab.output.renderOutput(dataTable, element);\n",
              "          const docLink = document.createElement('div');\n",
              "          docLink.innerHTML = docLinkHtml;\n",
              "          element.appendChild(docLink);\n",
              "        }\n",
              "      </script>\n",
              "    </div>\n",
              "  </div>\n",
              "  "
            ]
          },
          "metadata": {},
          "execution_count": 58
        }
      ]
    },
    {
      "cell_type": "markdown",
      "metadata": {
        "id": "mVBLFc8PhRtW"
      },
      "source": [
        "## Ejercicio 5: Documentación\n",
        "\n",
        "En un documento `.pdf` o `.md` realizar un reporte de las operaciones que realizaron para obtener el conjunto de datos final. Se debe incluir:\n",
        "  1. Criterios de exclusión (o inclusión) de filas\n",
        "  2. Interpretación de las columnas presentes\n",
        "  2. Todas las transofrmaciones realizadas\n",
        "\n",
        "Este documento es de uso técnico exclusivamente, y su objetivo es permitir que otres desarrolladores puedan reproducir los mismos pasos y obtener el mismo resultado. Debe ser detallado pero consiso. Por ejemplo:\n",
        "\n",
        "```\n",
        "  ## Criterios de exclusión de ejemplos\n",
        "  1. Se eliminan ejemplos donde el año de construcción es previo a 1900\n",
        "\n",
        "  ## Características seleccionadas\n",
        "  ### Características categóricas\n",
        "  1. Type: tipo de propiedad. 3 valores posibles\n",
        "  2. ...\n",
        "  Todas las características categóricas fueron codificadas con un\n",
        "  método OneHotEncoding utilizando como máximo sus 30 valores más \n",
        "  frecuentes.\n",
        "  \n",
        "  ### Características numéricas\n",
        "  1. Rooms: Cantidad de habitaciones\n",
        "  2. Distance: Distancia al centro de la ciudad.\n",
        "  3. airbnb_mean_price: Se agrega el precio promedio diario de \n",
        "     publicaciones de la plataforma AirBnB en el mismo código \n",
        "     postal. [Link al repositorio con datos externos].\n",
        "\n",
        "  ### Transformaciones:\n",
        "  1. Todas las características numéricas fueron estandarizadas.\n",
        "  2. La columna `Suburb` fue imputada utilizando el método ...\n",
        "  3. Las columnas `YearBuilt` y ... fueron imputadas utilizando el \n",
        "     algoritmo ...\n",
        "  4. ...\n",
        "\n",
        "  ### Datos aumentados\n",
        "  1. Se agregan las 5 primeras columnas obtenidas a través del\n",
        "     método de PCA, aplicado sobre el conjunto de datos\n",
        "     totalmente procesado.\n",
        "```\n"
      ]
    },
    {
      "cell_type": "markdown",
      "metadata": {
        "id": "Bq7nuPg2HIYx"
      },
      "source": [
        ""
      ]
    }
  ]
}