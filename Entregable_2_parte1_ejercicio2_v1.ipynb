{
  "nbformat": 4,
  "nbformat_minor": 0,
  "metadata": {
    "colab": {
      "name": "Entregable 2_parte1_ejercicio2.ipynb",
      "provenance": [],
      "include_colab_link": true
    },
    "kernelspec": {
      "name": "python3",
      "display_name": "Python 3"
    },
    "language_info": {
      "name": "python"
    }
  },
  "cells": [
    {
      "cell_type": "markdown",
      "metadata": {
        "id": "view-in-github",
        "colab_type": "text"
      },
      "source": [
        "<a href=\"https://colab.research.google.com/github/Grupo242022/EyCD/blob/main/Entregable_2_parte1_ejercicio2_v1.ipynb\" target=\"_parent\"><img src=\"https://colab.research.google.com/assets/colab-badge.svg\" alt=\"Open In Colab\"/></a>"
      ]
    },
    {
      "cell_type": "markdown",
      "source": [
        "\n",
        "# **Diplomatura en Ciencia de Datos, Aprendizaje Automático y sus Aplicaciones**\n",
        "\n",
        "# **Exploración y Curación de Datos**\n",
        "\n",
        "## Entregable # 2 Parte 1 - Ejercicio 2\n",
        "\n",
        "## GRUPO Nº24\n",
        "\n",
        "## INTEGRANTES:\n",
        "   - Clarisa Manzone\n",
        "   - Nico Rosales\n",
        "   - Daniel Rubio\n",
        "   - Diana Fonnegra   "
      ],
      "metadata": {
        "id": "WFQHZR6p7rrG"
      }
    },
    {
      "cell_type": "code",
      "execution_count": 1,
      "metadata": {
        "id": "tSPW8OcCftb-"
      },
      "outputs": [],
      "source": [
        "import matplotlib.pyplot as plt\n",
        "import numpy as np\n",
        "import pandas as pd\n",
        "\n",
        "import seaborn as sns\n",
        "sns.set_context('talk')\n"
      ]
    },
    {
      "cell_type": "code",
      "source": [
        "pd.options.display.float_format = '{:.2f}'.format"
      ],
      "metadata": {
        "id": "mjHr02pDlYLB"
      },
      "execution_count": 2,
      "outputs": []
    },
    {
      "cell_type": "markdown",
      "source": [
        "### 2. Seleccionar un subconjunto de columnas que les parezcan relevantes al problema de predicción del valor de la propiedad. Justificar las columnas seleccionadas y las que no lo fueron.\n",
        "\n",
        "### - Rta//: Distribución de variables y eliminación de outliers:"
      ],
      "metadata": {
        "id": "tSAG_ExhBR7H"
      }
    },
    {
      "cell_type": "markdown",
      "source": [
        "### Pasamos a definir los conjuntos de datos\n",
        "\n",
        "1.   *df_melb* -> Presenta los datos de los precios de las casas de Melbourne.\n",
        "2.   *df_airbnb* -> Contiene los datos de los alquileres de airbnb en Melbourne.\n",
        "\n",
        "### A su vez se seleccionan las columnas de interés para el conjunto df_airbnb:\n",
        "*   *description*\n",
        "*   *neighborhood_overview*\n",
        "*   *street*\n",
        "*   *neighborhood*\n",
        "*   *city*\n",
        "*   *suburb*\n",
        "*   *state*\n",
        "*   *zipcode*\n",
        "*   *price*\n",
        "*   *weekly_price*\n",
        "*   *monthly_price*\n",
        "*   *latitude*\n",
        "*   *longitude*\n"
      ],
      "metadata": {
        "id": "yEIznjmZFCAh"
      }
    },
    {
      "cell_type": "code",
      "source": [
        "url_1 = 'https://cs.famaf.unc.edu.ar/~mteruel/datasets/diplodatos/melb_data.csv'\n",
        "url_2 = 'https://cs.famaf.unc.edu.ar/~mteruel/datasets/diplodatos/cleansed_listings_dec18.csv'\n",
        "df_melb = pd.read_csv(url_1)\n",
        "\n",
        "# Definiendo filtro de columnas de interes - df_airbnb\n",
        "interesting_cols = [\n",
        "  'description', 'neighborhood_overview',\n",
        "  'street', 'neighborhood', 'city', 'suburb', 'state', 'zipcode',\n",
        "  'price', 'weekly_price', 'monthly_price',\n",
        "  'latitude', 'longitude',\n",
        "]\n",
        "\n",
        "# Aplicando filtro:\n",
        "df_airbnb = pd.read_csv(url_2, usecols=interesting_cols)"
      ],
      "metadata": {
        "colab": {
          "base_uri": "https://localhost:8080/"
        },
        "id": "LZGqnLO9f0z-",
        "outputId": "cbb93948-c15e-4a51-de32-b0e72f549ea7"
      },
      "execution_count": 3,
      "outputs": [
        {
          "output_type": "stream",
          "name": "stderr",
          "text": [
            "/usr/local/lib/python3.7/dist-packages/IPython/core/interactiveshell.py:2882: DtypeWarning: Columns (35) have mixed types.Specify dtype option on import or set low_memory=False.\n",
            "  exec(code_obj, self.user_global_ns, self.user_ns)\n"
          ]
        }
      ]
    },
    {
      "cell_type": "markdown",
      "source": [
        "### * Exploramos las columnas de ambos df:"
      ],
      "metadata": {
        "id": "i1cUhVT4KKAm"
      }
    },
    {
      "cell_type": "code",
      "source": [
        "print(df_melb.columns)\n",
        "print(df_airbnb.columns)"
      ],
      "metadata": {
        "colab": {
          "base_uri": "https://localhost:8080/"
        },
        "id": "kR6-KTNMgX1k",
        "outputId": "ff672d7a-d217-4a37-b0e1-f5cd399d9053"
      },
      "execution_count": 4,
      "outputs": [
        {
          "output_type": "stream",
          "name": "stdout",
          "text": [
            "Index(['Suburb', 'Address', 'Rooms', 'Type', 'Price', 'Method', 'SellerG',\n",
            "       'Date', 'Distance', 'Postcode', 'Bedroom2', 'Bathroom', 'Car',\n",
            "       'Landsize', 'BuildingArea', 'YearBuilt', 'CouncilArea', 'Lattitude',\n",
            "       'Longtitude', 'Regionname', 'Propertycount'],\n",
            "      dtype='object')\n",
            "Index(['description', 'neighborhood_overview', 'street', 'neighborhood',\n",
            "       'city', 'suburb', 'state', 'zipcode', 'latitude', 'longitude', 'price',\n",
            "       'weekly_price', 'monthly_price'],\n",
            "      dtype='object')\n"
          ]
        }
      ]
    },
    {
      "cell_type": "code",
      "source": [
        "# Descripción General del conjunto df_melb:\n",
        "df_melb.describe().T"
      ],
      "metadata": {
        "colab": {
          "base_uri": "https://localhost:8080/",
          "height": 457
        },
        "id": "VqECtvrLNeo1",
        "outputId": "90e03d43-ef2b-4628-c8d5-08d955ace444"
      },
      "execution_count": 5,
      "outputs": [
        {
          "output_type": "execute_result",
          "data": {
            "text/plain": [
              "                 count       mean       std      min       25%       50%  \\\n",
              "Rooms         13580.00       2.94      0.96     1.00      2.00      3.00   \n",
              "Price         13580.00 1075684.08 639310.72 85000.00 650000.00 903000.00   \n",
              "Distance      13580.00      10.14      5.87     0.00      6.10      9.20   \n",
              "Postcode      13580.00    3105.30     90.68  3000.00   3044.00   3084.00   \n",
              "Bedroom2      13580.00       2.91      0.97     0.00      2.00      3.00   \n",
              "Bathroom      13580.00       1.53      0.69     0.00      1.00      1.00   \n",
              "Car           13518.00       1.61      0.96     0.00      1.00      2.00   \n",
              "Landsize      13580.00     558.42   3990.67     0.00    177.00    440.00   \n",
              "BuildingArea   7130.00     151.97    541.01     0.00     93.00    126.00   \n",
              "YearBuilt      8205.00    1964.68     37.27  1196.00   1940.00   1970.00   \n",
              "Lattitude     13580.00     -37.81      0.08   -38.18    -37.86    -37.80   \n",
              "Longtitude    13580.00     145.00      0.10   144.43    144.93    145.00   \n",
              "Propertycount 13580.00    7454.42   4378.58   249.00   4380.00   6555.00   \n",
              "\n",
              "                     75%        max  \n",
              "Rooms               3.00      10.00  \n",
              "Price         1330000.00 9000000.00  \n",
              "Distance           13.00      48.10  \n",
              "Postcode         3148.00    3977.00  \n",
              "Bedroom2            3.00      20.00  \n",
              "Bathroom            2.00       8.00  \n",
              "Car                 2.00      10.00  \n",
              "Landsize          651.00  433014.00  \n",
              "BuildingArea      174.00   44515.00  \n",
              "YearBuilt        1999.00    2018.00  \n",
              "Lattitude         -37.76     -37.41  \n",
              "Longtitude        145.06     145.53  \n",
              "Propertycount   10331.00   21650.00  "
            ],
            "text/html": [
              "\n",
              "  <div id=\"df-e336c7a7-a89f-4a22-ae33-fb865190e072\">\n",
              "    <div class=\"colab-df-container\">\n",
              "      <div>\n",
              "<style scoped>\n",
              "    .dataframe tbody tr th:only-of-type {\n",
              "        vertical-align: middle;\n",
              "    }\n",
              "\n",
              "    .dataframe tbody tr th {\n",
              "        vertical-align: top;\n",
              "    }\n",
              "\n",
              "    .dataframe thead th {\n",
              "        text-align: right;\n",
              "    }\n",
              "</style>\n",
              "<table border=\"1\" class=\"dataframe\">\n",
              "  <thead>\n",
              "    <tr style=\"text-align: right;\">\n",
              "      <th></th>\n",
              "      <th>count</th>\n",
              "      <th>mean</th>\n",
              "      <th>std</th>\n",
              "      <th>min</th>\n",
              "      <th>25%</th>\n",
              "      <th>50%</th>\n",
              "      <th>75%</th>\n",
              "      <th>max</th>\n",
              "    </tr>\n",
              "  </thead>\n",
              "  <tbody>\n",
              "    <tr>\n",
              "      <th>Rooms</th>\n",
              "      <td>13580.00</td>\n",
              "      <td>2.94</td>\n",
              "      <td>0.96</td>\n",
              "      <td>1.00</td>\n",
              "      <td>2.00</td>\n",
              "      <td>3.00</td>\n",
              "      <td>3.00</td>\n",
              "      <td>10.00</td>\n",
              "    </tr>\n",
              "    <tr>\n",
              "      <th>Price</th>\n",
              "      <td>13580.00</td>\n",
              "      <td>1075684.08</td>\n",
              "      <td>639310.72</td>\n",
              "      <td>85000.00</td>\n",
              "      <td>650000.00</td>\n",
              "      <td>903000.00</td>\n",
              "      <td>1330000.00</td>\n",
              "      <td>9000000.00</td>\n",
              "    </tr>\n",
              "    <tr>\n",
              "      <th>Distance</th>\n",
              "      <td>13580.00</td>\n",
              "      <td>10.14</td>\n",
              "      <td>5.87</td>\n",
              "      <td>0.00</td>\n",
              "      <td>6.10</td>\n",
              "      <td>9.20</td>\n",
              "      <td>13.00</td>\n",
              "      <td>48.10</td>\n",
              "    </tr>\n",
              "    <tr>\n",
              "      <th>Postcode</th>\n",
              "      <td>13580.00</td>\n",
              "      <td>3105.30</td>\n",
              "      <td>90.68</td>\n",
              "      <td>3000.00</td>\n",
              "      <td>3044.00</td>\n",
              "      <td>3084.00</td>\n",
              "      <td>3148.00</td>\n",
              "      <td>3977.00</td>\n",
              "    </tr>\n",
              "    <tr>\n",
              "      <th>Bedroom2</th>\n",
              "      <td>13580.00</td>\n",
              "      <td>2.91</td>\n",
              "      <td>0.97</td>\n",
              "      <td>0.00</td>\n",
              "      <td>2.00</td>\n",
              "      <td>3.00</td>\n",
              "      <td>3.00</td>\n",
              "      <td>20.00</td>\n",
              "    </tr>\n",
              "    <tr>\n",
              "      <th>Bathroom</th>\n",
              "      <td>13580.00</td>\n",
              "      <td>1.53</td>\n",
              "      <td>0.69</td>\n",
              "      <td>0.00</td>\n",
              "      <td>1.00</td>\n",
              "      <td>1.00</td>\n",
              "      <td>2.00</td>\n",
              "      <td>8.00</td>\n",
              "    </tr>\n",
              "    <tr>\n",
              "      <th>Car</th>\n",
              "      <td>13518.00</td>\n",
              "      <td>1.61</td>\n",
              "      <td>0.96</td>\n",
              "      <td>0.00</td>\n",
              "      <td>1.00</td>\n",
              "      <td>2.00</td>\n",
              "      <td>2.00</td>\n",
              "      <td>10.00</td>\n",
              "    </tr>\n",
              "    <tr>\n",
              "      <th>Landsize</th>\n",
              "      <td>13580.00</td>\n",
              "      <td>558.42</td>\n",
              "      <td>3990.67</td>\n",
              "      <td>0.00</td>\n",
              "      <td>177.00</td>\n",
              "      <td>440.00</td>\n",
              "      <td>651.00</td>\n",
              "      <td>433014.00</td>\n",
              "    </tr>\n",
              "    <tr>\n",
              "      <th>BuildingArea</th>\n",
              "      <td>7130.00</td>\n",
              "      <td>151.97</td>\n",
              "      <td>541.01</td>\n",
              "      <td>0.00</td>\n",
              "      <td>93.00</td>\n",
              "      <td>126.00</td>\n",
              "      <td>174.00</td>\n",
              "      <td>44515.00</td>\n",
              "    </tr>\n",
              "    <tr>\n",
              "      <th>YearBuilt</th>\n",
              "      <td>8205.00</td>\n",
              "      <td>1964.68</td>\n",
              "      <td>37.27</td>\n",
              "      <td>1196.00</td>\n",
              "      <td>1940.00</td>\n",
              "      <td>1970.00</td>\n",
              "      <td>1999.00</td>\n",
              "      <td>2018.00</td>\n",
              "    </tr>\n",
              "    <tr>\n",
              "      <th>Lattitude</th>\n",
              "      <td>13580.00</td>\n",
              "      <td>-37.81</td>\n",
              "      <td>0.08</td>\n",
              "      <td>-38.18</td>\n",
              "      <td>-37.86</td>\n",
              "      <td>-37.80</td>\n",
              "      <td>-37.76</td>\n",
              "      <td>-37.41</td>\n",
              "    </tr>\n",
              "    <tr>\n",
              "      <th>Longtitude</th>\n",
              "      <td>13580.00</td>\n",
              "      <td>145.00</td>\n",
              "      <td>0.10</td>\n",
              "      <td>144.43</td>\n",
              "      <td>144.93</td>\n",
              "      <td>145.00</td>\n",
              "      <td>145.06</td>\n",
              "      <td>145.53</td>\n",
              "    </tr>\n",
              "    <tr>\n",
              "      <th>Propertycount</th>\n",
              "      <td>13580.00</td>\n",
              "      <td>7454.42</td>\n",
              "      <td>4378.58</td>\n",
              "      <td>249.00</td>\n",
              "      <td>4380.00</td>\n",
              "      <td>6555.00</td>\n",
              "      <td>10331.00</td>\n",
              "      <td>21650.00</td>\n",
              "    </tr>\n",
              "  </tbody>\n",
              "</table>\n",
              "</div>\n",
              "      <button class=\"colab-df-convert\" onclick=\"convertToInteractive('df-e336c7a7-a89f-4a22-ae33-fb865190e072')\"\n",
              "              title=\"Convert this dataframe to an interactive table.\"\n",
              "              style=\"display:none;\">\n",
              "        \n",
              "  <svg xmlns=\"http://www.w3.org/2000/svg\" height=\"24px\"viewBox=\"0 0 24 24\"\n",
              "       width=\"24px\">\n",
              "    <path d=\"M0 0h24v24H0V0z\" fill=\"none\"/>\n",
              "    <path d=\"M18.56 5.44l.94 2.06.94-2.06 2.06-.94-2.06-.94-.94-2.06-.94 2.06-2.06.94zm-11 1L8.5 8.5l.94-2.06 2.06-.94-2.06-.94L8.5 2.5l-.94 2.06-2.06.94zm10 10l.94 2.06.94-2.06 2.06-.94-2.06-.94-.94-2.06-.94 2.06-2.06.94z\"/><path d=\"M17.41 7.96l-1.37-1.37c-.4-.4-.92-.59-1.43-.59-.52 0-1.04.2-1.43.59L10.3 9.45l-7.72 7.72c-.78.78-.78 2.05 0 2.83L4 21.41c.39.39.9.59 1.41.59.51 0 1.02-.2 1.41-.59l7.78-7.78 2.81-2.81c.8-.78.8-2.07 0-2.86zM5.41 20L4 18.59l7.72-7.72 1.47 1.35L5.41 20z\"/>\n",
              "  </svg>\n",
              "      </button>\n",
              "      \n",
              "  <style>\n",
              "    .colab-df-container {\n",
              "      display:flex;\n",
              "      flex-wrap:wrap;\n",
              "      gap: 12px;\n",
              "    }\n",
              "\n",
              "    .colab-df-convert {\n",
              "      background-color: #E8F0FE;\n",
              "      border: none;\n",
              "      border-radius: 50%;\n",
              "      cursor: pointer;\n",
              "      display: none;\n",
              "      fill: #1967D2;\n",
              "      height: 32px;\n",
              "      padding: 0 0 0 0;\n",
              "      width: 32px;\n",
              "    }\n",
              "\n",
              "    .colab-df-convert:hover {\n",
              "      background-color: #E2EBFA;\n",
              "      box-shadow: 0px 1px 2px rgba(60, 64, 67, 0.3), 0px 1px 3px 1px rgba(60, 64, 67, 0.15);\n",
              "      fill: #174EA6;\n",
              "    }\n",
              "\n",
              "    [theme=dark] .colab-df-convert {\n",
              "      background-color: #3B4455;\n",
              "      fill: #D2E3FC;\n",
              "    }\n",
              "\n",
              "    [theme=dark] .colab-df-convert:hover {\n",
              "      background-color: #434B5C;\n",
              "      box-shadow: 0px 1px 3px 1px rgba(0, 0, 0, 0.15);\n",
              "      filter: drop-shadow(0px 1px 2px rgba(0, 0, 0, 0.3));\n",
              "      fill: #FFFFFF;\n",
              "    }\n",
              "  </style>\n",
              "\n",
              "      <script>\n",
              "        const buttonEl =\n",
              "          document.querySelector('#df-e336c7a7-a89f-4a22-ae33-fb865190e072 button.colab-df-convert');\n",
              "        buttonEl.style.display =\n",
              "          google.colab.kernel.accessAllowed ? 'block' : 'none';\n",
              "\n",
              "        async function convertToInteractive(key) {\n",
              "          const element = document.querySelector('#df-e336c7a7-a89f-4a22-ae33-fb865190e072');\n",
              "          const dataTable =\n",
              "            await google.colab.kernel.invokeFunction('convertToInteractive',\n",
              "                                                     [key], {});\n",
              "          if (!dataTable) return;\n",
              "\n",
              "          const docLinkHtml = 'Like what you see? Visit the ' +\n",
              "            '<a target=\"_blank\" href=https://colab.research.google.com/notebooks/data_table.ipynb>data table notebook</a>'\n",
              "            + ' to learn more about interactive tables.';\n",
              "          element.innerHTML = '';\n",
              "          dataTable['output_type'] = 'display_data';\n",
              "          await google.colab.output.renderOutput(dataTable, element);\n",
              "          const docLink = document.createElement('div');\n",
              "          docLink.innerHTML = docLinkHtml;\n",
              "          element.appendChild(docLink);\n",
              "        }\n",
              "      </script>\n",
              "    </div>\n",
              "  </div>\n",
              "  "
            ]
          },
          "metadata": {},
          "execution_count": 5
        }
      ]
    },
    {
      "cell_type": "code",
      "source": [
        "df_melb.Price.describe()"
      ],
      "metadata": {
        "colab": {
          "base_uri": "https://localhost:8080/"
        },
        "id": "EJwNzmbhkeqO",
        "outputId": "cf498b44-900b-439b-e6c7-d1b0a5cefa78"
      },
      "execution_count": 6,
      "outputs": [
        {
          "output_type": "execute_result",
          "data": {
            "text/plain": [
              "count     13580.00\n",
              "mean    1075684.08\n",
              "std      639310.72\n",
              "min       85000.00\n",
              "25%      650000.00\n",
              "50%      903000.00\n",
              "75%     1330000.00\n",
              "max     9000000.00\n",
              "Name: Price, dtype: float64"
            ]
          },
          "metadata": {},
          "execution_count": 6
        }
      ]
    },
    {
      "cell_type": "code",
      "source": [
        "print(f'Consultando el total de datos nulos para la columna Price: {df_melb.Price.isnull().sum()}')"
      ],
      "metadata": {
        "colab": {
          "base_uri": "https://localhost:8080/"
        },
        "id": "aYYmnT0uLP_5",
        "outputId": "91f50c36-6305-4809-f4d3-fc53b1324c84"
      },
      "execution_count": 7,
      "outputs": [
        {
          "output_type": "stream",
          "name": "stdout",
          "text": [
            "Consultando el total de datos nulos para la columna Price: 0\n"
          ]
        }
      ]
    },
    {
      "cell_type": "markdown",
      "source": [
        "### Del anterior se puede notar que:\n",
        "\n",
        "*  El precio de las casas varían desde \\$85.000 dólares hasta \\$9.000.000\n",
        "\n",
        "*  Además, tenemos una desviación estandar de \\$639.310.\n",
        "\n"
      ],
      "metadata": {
        "id": "lWEJEwPaKViS"
      }
    },
    {
      "cell_type": "markdown",
      "source": [
        "\n",
        "### * Visualizamos en un boxplot la distribución de los valores (Precio):"
      ],
      "metadata": {
        "id": "6rwIdVK3GVrt"
      }
    },
    {
      "cell_type": "code",
      "source": [
        "plt.figure(figsize=(10, 8))\n",
        "sns.boxplot(data=df_melb, x='Price',\n",
        "                color='orangered')\n",
        "plt.ticklabel_format(style='plain', axis='x')\n",
        "plt.title('Distribución de los Precios de Casas en Melbourne')"
      ],
      "metadata": {
        "colab": {
          "base_uri": "https://localhost:8080/",
          "height": 555
        },
        "id": "qIzllryQK4P8",
        "outputId": "80c44daa-dd3b-41c1-8f2b-4d4612be1413"
      },
      "execution_count": 8,
      "outputs": [
        {
          "output_type": "execute_result",
          "data": {
            "text/plain": [
              "Text(0.5, 1.0, 'Distribución de los Precios de Casas en Melbourne')"
            ]
          },
          "metadata": {},
          "execution_count": 8
        },
        {
          "output_type": "display_data",
          "data": {
            "text/plain": [
              "<Figure size 720x576 with 1 Axes>"
            ],
            "image/png": "[encoded data removed]"
          },
          "metadata": {
            "needs_background": "light"
          }
        }
      ]
    },
    {
      "cell_type": "markdown",
      "source": [
        "### * Dada la cantidad de valores átipicos presentes en la variable precio, definimos los umbrales según los cuantiles *0.05* y *0.95*, y filtramos la informacion en función de los mismos:"
      ],
      "metadata": {
        "id": "PaQUzRSiG6D_"
      }
    },
    {
      "cell_type": "code",
      "source": [
        "quantile_05 = 0.05\n",
        "quantile_95 = 0.95\n",
        "\n",
        "# Filtrado a partir de cuantiles:\n",
        "df_melb_perc = df_melb.loc[ (df_melb.Price > df_melb.Price.quantile(quantile_05)) \\\n",
        "                           & (df_melb.Price < df_melb.Price.quantile(quantile_95))]\n",
        "\n",
        "\n",
        "df_melb_perc.describe().T"
      ],
      "metadata": {
        "colab": {
          "base_uri": "https://localhost:8080/",
          "height": 457
        },
        "id": "KoRv0GEdw_en",
        "outputId": "5ed65490-b536-43f6-e45c-64fe0f282073"
      },
      "execution_count": 9,
      "outputs": [
        {
          "output_type": "execute_result",
          "data": {
            "text/plain": [
              "                 count       mean       std       min       25%       50%  \\\n",
              "Rooms         12214.00       2.96      0.88      1.00      2.00      3.00   \n",
              "Price         12214.00 1011430.30 430553.36 406000.00 672000.00 904000.00   \n",
              "Distance      12214.00      10.30      5.90      0.00      6.30      9.70   \n",
              "Postcode      12214.00    3103.64     90.96   3000.00   3044.00   3082.00   \n",
              "Bedroom2      12214.00       2.93      0.89      0.00      2.00      3.00   \n",
              "Bathroom      12214.00       1.51      0.65      0.00      1.00      1.00   \n",
              "Car           12155.00       1.61      0.95      0.00      1.00      2.00   \n",
              "Landsize      12214.00     523.84   1513.17      0.00    188.25    438.00   \n",
              "BuildingArea   6352.00     149.69    570.14      0.00     96.00    126.00   \n",
              "YearBuilt      7280.00    1965.09     37.16   1196.00   1941.00   1970.00   \n",
              "Lattitude     12214.00     -37.81      0.08    -38.18    -37.86    -37.80   \n",
              "Longtitude    12214.00     145.00      0.11    144.49    144.93    145.00   \n",
              "Propertycount 12214.00    7403.25   4373.43    249.00   4217.00   6543.00   \n",
              "\n",
              "                     75%        max  \n",
              "Rooms               3.00      10.00  \n",
              "Price         1290000.00 2290000.00  \n",
              "Distance           13.10      48.10  \n",
              "Postcode         3147.00    3977.00  \n",
              "Bedroom2            3.00      20.00  \n",
              "Bathroom            2.00       8.00  \n",
              "Car                 2.00      10.00  \n",
              "Landsize          648.00   76000.00  \n",
              "BuildingArea      168.00   44515.00  \n",
              "YearBuilt        2000.00    2018.00  \n",
              "Lattitude         -37.75     -37.45  \n",
              "Longtitude        145.06     145.53  \n",
              "Propertycount   10175.00   21650.00  "
            ],
            "text/html": [
              "\n",
              "  <div id=\"df-1e3cb65d-78ab-4b9b-985a-dbea1fe64bbf\">\n",
              "    <div class=\"colab-df-container\">\n",
              "      <div>\n",
              "<style scoped>\n",
              "    .dataframe tbody tr th:only-of-type {\n",
              "        vertical-align: middle;\n",
              "    }\n",
              "\n",
              "    .dataframe tbody tr th {\n",
              "        vertical-align: top;\n",
              "    }\n",
              "\n",
              "    .dataframe thead th {\n",
              "        text-align: right;\n",
              "    }\n",
              "</style>\n",
              "<table border=\"1\" class=\"dataframe\">\n",
              "  <thead>\n",
              "    <tr style=\"text-align: right;\">\n",
              "      <th></th>\n",
              "      <th>count</th>\n",
              "      <th>mean</th>\n",
              "      <th>std</th>\n",
              "      <th>min</th>\n",
              "      <th>25%</th>\n",
              "      <th>50%</th>\n",
              "      <th>75%</th>\n",
              "      <th>max</th>\n",
              "    </tr>\n",
              "  </thead>\n",
              "  <tbody>\n",
              "    <tr>\n",
              "      <th>Rooms</th>\n",
              "      <td>12214.00</td>\n",
              "      <td>2.96</td>\n",
              "      <td>0.88</td>\n",
              "      <td>1.00</td>\n",
              "      <td>2.00</td>\n",
              "      <td>3.00</td>\n",
              "      <td>3.00</td>\n",
              "      <td>10.00</td>\n",
              "    </tr>\n",
              "    <tr>\n",
              "      <th>Price</th>\n",
              "      <td>12214.00</td>\n",
              "      <td>1011430.30</td>\n",
              "      <td>430553.36</td>\n",
              "      <td>406000.00</td>\n",
              "      <td>672000.00</td>\n",
              "      <td>904000.00</td>\n",
              "      <td>1290000.00</td>\n",
              "      <td>2290000.00</td>\n",
              "    </tr>\n",
              "    <tr>\n",
              "      <th>Distance</th>\n",
              "      <td>12214.00</td>\n",
              "      <td>10.30</td>\n",
              "      <td>5.90</td>\n",
              "      <td>0.00</td>\n",
              "      <td>6.30</td>\n",
              "      <td>9.70</td>\n",
              "      <td>13.10</td>\n",
              "      <td>48.10</td>\n",
              "    </tr>\n",
              "    <tr>\n",
              "      <th>Postcode</th>\n",
              "      <td>12214.00</td>\n",
              "      <td>3103.64</td>\n",
              "      <td>90.96</td>\n",
              "      <td>3000.00</td>\n",
              "      <td>3044.00</td>\n",
              "      <td>3082.00</td>\n",
              "      <td>3147.00</td>\n",
              "      <td>3977.00</td>\n",
              "    </tr>\n",
              "    <tr>\n",
              "      <th>Bedroom2</th>\n",
              "      <td>12214.00</td>\n",
              "      <td>2.93</td>\n",
              "      <td>0.89</td>\n",
              "      <td>0.00</td>\n",
              "      <td>2.00</td>\n",
              "      <td>3.00</td>\n",
              "      <td>3.00</td>\n",
              "      <td>20.00</td>\n",
              "    </tr>\n",
              "    <tr>\n",
              "      <th>Bathroom</th>\n",
              "      <td>12214.00</td>\n",
              "      <td>1.51</td>\n",
              "      <td>0.65</td>\n",
              "      <td>0.00</td>\n",
              "      <td>1.00</td>\n",
              "      <td>1.00</td>\n",
              "      <td>2.00</td>\n",
              "      <td>8.00</td>\n",
              "    </tr>\n",
              "    <tr>\n",
              "      <th>Car</th>\n",
              "      <td>12155.00</td>\n",
              "      <td>1.61</td>\n",
              "      <td>0.95</td>\n",
              "      <td>0.00</td>\n",
              "      <td>1.00</td>\n",
              "      <td>2.00</td>\n",
              "      <td>2.00</td>\n",
              "      <td>10.00</td>\n",
              "    </tr>\n",
              "    <tr>\n",
              "      <th>Landsize</th>\n",
              "      <td>12214.00</td>\n",
              "      <td>523.84</td>\n",
              "      <td>1513.17</td>\n",
              "      <td>0.00</td>\n",
              "      <td>188.25</td>\n",
              "      <td>438.00</td>\n",
              "      <td>648.00</td>\n",
              "      <td>76000.00</td>\n",
              "    </tr>\n",
              "    <tr>\n",
              "      <th>BuildingArea</th>\n",
              "      <td>6352.00</td>\n",
              "      <td>149.69</td>\n",
              "      <td>570.14</td>\n",
              "      <td>0.00</td>\n",
              "      <td>96.00</td>\n",
              "      <td>126.00</td>\n",
              "      <td>168.00</td>\n",
              "      <td>44515.00</td>\n",
              "    </tr>\n",
              "    <tr>\n",
              "      <th>YearBuilt</th>\n",
              "      <td>7280.00</td>\n",
              "      <td>1965.09</td>\n",
              "      <td>37.16</td>\n",
              "      <td>1196.00</td>\n",
              "      <td>1941.00</td>\n",
              "      <td>1970.00</td>\n",
              "      <td>2000.00</td>\n",
              "      <td>2018.00</td>\n",
              "    </tr>\n",
              "    <tr>\n",
              "      <th>Lattitude</th>\n",
              "      <td>12214.00</td>\n",
              "      <td>-37.81</td>\n",
              "      <td>0.08</td>\n",
              "      <td>-38.18</td>\n",
              "      <td>-37.86</td>\n",
              "      <td>-37.80</td>\n",
              "      <td>-37.75</td>\n",
              "      <td>-37.45</td>\n",
              "    </tr>\n",
              "    <tr>\n",
              "      <th>Longtitude</th>\n",
              "      <td>12214.00</td>\n",
              "      <td>145.00</td>\n",
              "      <td>0.11</td>\n",
              "      <td>144.49</td>\n",
              "      <td>144.93</td>\n",
              "      <td>145.00</td>\n",
              "      <td>145.06</td>\n",
              "      <td>145.53</td>\n",
              "    </tr>\n",
              "    <tr>\n",
              "      <th>Propertycount</th>\n",
              "      <td>12214.00</td>\n",
              "      <td>7403.25</td>\n",
              "      <td>4373.43</td>\n",
              "      <td>249.00</td>\n",
              "      <td>4217.00</td>\n",
              "      <td>6543.00</td>\n",
              "      <td>10175.00</td>\n",
              "      <td>21650.00</td>\n",
              "    </tr>\n",
              "  </tbody>\n",
              "</table>\n",
              "</div>\n",
              "      <button class=\"colab-df-convert\" onclick=\"convertToInteractive('df-1e3cb65d-78ab-4b9b-985a-dbea1fe64bbf')\"\n",
              "              title=\"Convert this dataframe to an interactive table.\"\n",
              "              style=\"display:none;\">\n",
              "        \n",
              "  <svg xmlns=\"http://www.w3.org/2000/svg\" height=\"24px\"viewBox=\"0 0 24 24\"\n",
              "       width=\"24px\">\n",
              "    <path d=\"M0 0h24v24H0V0z\" fill=\"none\"/>\n",
              "    <path d=\"M18.56 5.44l.94 2.06.94-2.06 2.06-.94-2.06-.94-.94-2.06-.94 2.06-2.06.94zm-11 1L8.5 8.5l.94-2.06 2.06-.94-2.06-.94L8.5 2.5l-.94 2.06-2.06.94zm10 10l.94 2.06.94-2.06 2.06-.94-2.06-.94-.94-2.06-.94 2.06-2.06.94z\"/><path d=\"M17.41 7.96l-1.37-1.37c-.4-.4-.92-.59-1.43-.59-.52 0-1.04.2-1.43.59L10.3 9.45l-7.72 7.72c-.78.78-.78 2.05 0 2.83L4 21.41c.39.39.9.59 1.41.59.51 0 1.02-.2 1.41-.59l7.78-7.78 2.81-2.81c.8-.78.8-2.07 0-2.86zM5.41 20L4 18.59l7.72-7.72 1.47 1.35L5.41 20z\"/>\n",
              "  </svg>\n",
              "      </button>\n",
              "      \n",
              "  <style>\n",
              "    .colab-df-container {\n",
              "      display:flex;\n",
              "      flex-wrap:wrap;\n",
              "      gap: 12px;\n",
              "    }\n",
              "\n",
              "    .colab-df-convert {\n",
              "      background-color: #E8F0FE;\n",
              "      border: none;\n",
              "      border-radius: 50%;\n",
              "      cursor: pointer;\n",
              "      display: none;\n",
              "      fill: #1967D2;\n",
              "      height: 32px;\n",
              "      padding: 0 0 0 0;\n",
              "      width: 32px;\n",
              "    }\n",
              "\n",
              "    .colab-df-convert:hover {\n",
              "      background-color: #E2EBFA;\n",
              "      box-shadow: 0px 1px 2px rgba(60, 64, 67, 0.3), 0px 1px 3px 1px rgba(60, 64, 67, 0.15);\n",
              "      fill: #174EA6;\n",
              "    }\n",
              "\n",
              "    [theme=dark] .colab-df-convert {\n",
              "      background-color: #3B4455;\n",
              "      fill: #D2E3FC;\n",
              "    }\n",
              "\n",
              "    [theme=dark] .colab-df-convert:hover {\n",
              "      background-color: #434B5C;\n",
              "      box-shadow: 0px 1px 3px 1px rgba(0, 0, 0, 0.15);\n",
              "      filter: drop-shadow(0px 1px 2px rgba(0, 0, 0, 0.3));\n",
              "      fill: #FFFFFF;\n",
              "    }\n",
              "  </style>\n",
              "\n",
              "      <script>\n",
              "        const buttonEl =\n",
              "          document.querySelector('#df-1e3cb65d-78ab-4b9b-985a-dbea1fe64bbf button.colab-df-convert');\n",
              "        buttonEl.style.display =\n",
              "          google.colab.kernel.accessAllowed ? 'block' : 'none';\n",
              "\n",
              "        async function convertToInteractive(key) {\n",
              "          const element = document.querySelector('#df-1e3cb65d-78ab-4b9b-985a-dbea1fe64bbf');\n",
              "          const dataTable =\n",
              "            await google.colab.kernel.invokeFunction('convertToInteractive',\n",
              "                                                     [key], {});\n",
              "          if (!dataTable) return;\n",
              "\n",
              "          const docLinkHtml = 'Like what you see? Visit the ' +\n",
              "            '<a target=\"_blank\" href=https://colab.research.google.com/notebooks/data_table.ipynb>data table notebook</a>'\n",
              "            + ' to learn more about interactive tables.';\n",
              "          element.innerHTML = '';\n",
              "          dataTable['output_type'] = 'display_data';\n",
              "          await google.colab.output.renderOutput(dataTable, element);\n",
              "          const docLink = document.createElement('div');\n",
              "          docLink.innerHTML = docLinkHtml;\n",
              "          element.appendChild(docLink);\n",
              "        }\n",
              "      </script>\n",
              "    </div>\n",
              "  </div>\n",
              "  "
            ]
          },
          "metadata": {},
          "execution_count": 9
        }
      ]
    },
    {
      "cell_type": "markdown",
      "source": [
        "### * Comparando los conjuntos de datos (inicial vs filtrado a partir de cuantiles):"
      ],
      "metadata": {
        "id": "OKIjLgUYJwA2"
      }
    },
    {
      "cell_type": "code",
      "source": [
        "print(f'Tamaño del conjunto inicial - df_melb: {len(df_melb)}')\n",
        "print(f'Media del conjunto inicial - df_melb:  {df_melb.Price.mean():.2f}')\n",
        "print('---- ----- ----- ------ ----- ---- ----- ----- ------ ----- \\n')\n",
        "\n",
        "print(f'Tamaño del conjunto filtrado - df_melb_perc: \\t{len(df_melb_perc)}')\n",
        "print(f'Media del conjunto filtrado - df_melb_perc:  \\t{df_melb_perc.Price.mean():.2f}')\n",
        "\n",
        "print(f'Filas debajo del percentil 0.05 en el conjunto inicial: \\\n",
        "{len(df_melb.loc[df_melb.Price < df_melb.Price.quantile(quantile_05)])}')\n",
        "\n",
        "print(f'Filas arriba del percentil 0.95 en el conjunto inicial: \\\n",
        "{len(df_melb.loc[df_melb.Price > df_melb.Price.quantile(quantile_95)])}')\n",
        "print('---- ----- ----- ------ ----- ---- ----- ----- ------ ----- \\n')\n",
        "\n",
        "print(f'Filas extraídas del conjunto inicial: {len(df_melb) - len(df_melb_perc)}')"
      ],
      "metadata": {
        "colab": {
          "base_uri": "https://localhost:8080/"
        },
        "id": "NhfdLwN_xycV",
        "outputId": "7ab40a43-4efa-448c-a448-e12ad461ee46"
      },
      "execution_count": 10,
      "outputs": [
        {
          "output_type": "stream",
          "name": "stdout",
          "text": [
            "Tamaño del conjunto inicial - df_melb: 13580\n",
            "Media del conjunto inicial - df_melb:  1075684.08\n",
            "---- ----- ----- ------ ----- ---- ----- ----- ------ ----- \n",
            "\n",
            "Tamaño del conjunto filtrado - df_melb_perc: \t12214\n",
            "Media del conjunto filtrado - df_melb_perc:  \t1011430.30\n",
            "Filas debajo del percentil 0.05 en el conjunto inicial: 671\n",
            "Filas arriba del percentil 0.95 en el conjunto inicial: 679\n",
            "---- ----- ----- ------ ----- ---- ----- ----- ------ ----- \n",
            "\n",
            "Filas extraídas del conjunto inicial: 1366\n"
          ]
        }
      ]
    },
    {
      "cell_type": "markdown",
      "source": [
        "### * Boxplot: distribución de los valores (Precio) - filtrado por cuantil."
      ],
      "metadata": {
        "id": "qLEX_-DgKzxb"
      }
    },
    {
      "cell_type": "code",
      "source": [
        "plt.figure(figsize=(10, 8))\n",
        "sns.boxplot(data=df_melb_perc, x='Price',\n",
        "                color='orangered')\n",
        "plt.ticklabel_format(style='plain', axis='x')\n",
        "plt.title('Distribución de los Precios de Casas en Melbourne - filtrado')"
      ],
      "metadata": {
        "colab": {
          "base_uri": "https://localhost:8080/",
          "height": 555
        },
        "id": "OagX6URRy_5G",
        "outputId": "55cee442-443a-44cf-c526-d0e872d31ff1"
      },
      "execution_count": 11,
      "outputs": [
        {
          "output_type": "execute_result",
          "data": {
            "text/plain": [
              "Text(0.5, 1.0, 'Distribución de los Precios de Casas en Melbourne - filtrado')"
            ]
          },
          "metadata": {},
          "execution_count": 11
        },
        {
          "output_type": "display_data",
          "data": {
            "text/plain": [
              "<Figure size 720x576 with 1 Axes>"
            ],
            "image/png": "[encoded data removed]"
          },
          "metadata": {
            "needs_background": "light"
          }
        }
      ]
    },
    {
      "cell_type": "markdown",
      "source": [
        "### * Consultas sobre el conjunto filtrado:"
      ],
      "metadata": {
        "id": "q-ex1ohCU3CJ"
      }
    },
    {
      "cell_type": "code",
      "source": [
        "# Habitaciones:\n",
        "print(f'Máximo de habitaciones en el dataset: {df_melb_perc.Rooms.max()}')"
      ],
      "metadata": {
        "colab": {
          "base_uri": "https://localhost:8080/"
        },
        "id": "d5kQf8CHN2ds",
        "outputId": "4a9b4f48-80c3-409f-cbfc-d97d56c07551"
      },
      "execution_count": 12,
      "outputs": [
        {
          "output_type": "stream",
          "name": "stdout",
          "text": [
            "Máximo de habitaciones en el dataset: 10\n"
          ]
        }
      ]
    },
    {
      "cell_type": "markdown",
      "source": [
        "### * Se construyó un contador que separa y totaliza la cantidad de habitaciones presentes en el conjunto:"
      ],
      "metadata": {
        "id": "Iqo3hG5_VlGA"
      }
    },
    {
      "cell_type": "code",
      "source": [
        "def contar_habitaciones(column):\n",
        "  \n",
        "  for hab in range(column.max()+1):\n",
        "    for row in column:\n",
        "    \n",
        "      contador = column.loc[column == hab].sum()\n",
        "    print(f'Cantidad de casas con {hab} habitaciones: {contador}')"
      ],
      "metadata": {
        "id": "fenubonTLRVR"
      },
      "execution_count": 13,
      "outputs": []
    },
    {
      "cell_type": "code",
      "source": [
        "contar_habitaciones(df_melb_perc.Rooms)"
      ],
      "metadata": {
        "colab": {
          "base_uri": "https://localhost:8080/"
        },
        "id": "VnqZzz87MRPr",
        "outputId": "9b3ce551-500a-4712-b8f0-3685c9109da8"
      },
      "execution_count": 14,
      "outputs": [
        {
          "output_type": "stream",
          "name": "stdout",
          "text": [
            "Cantidad de casas con 0 habitaciones: 0\n",
            "Cantidad de casas con 1 habitaciones: 283\n",
            "Cantidad de casas con 2 habitaciones: 6812\n",
            "Cantidad de casas con 3 habitaciones: 17025\n",
            "Cantidad de casas con 4 habitaciones: 9408\n",
            "Cantidad de casas con 5 habitaciones: 2140\n",
            "Cantidad de casas con 6 habitaciones: 330\n",
            "Cantidad de casas con 7 habitaciones: 49\n",
            "Cantidad de casas con 8 habitaciones: 56\n",
            "Cantidad de casas con 9 habitaciones: 0\n",
            "Cantidad de casas con 10 habitaciones: 10\n"
          ]
        }
      ]
    },
    {
      "cell_type": "markdown",
      "source": [
        "### * Filtramos la información teniendo en cuenta aquellos registros que solo tengan una habitación:"
      ],
      "metadata": {
        "id": "7rnBunOGWp70"
      }
    },
    {
      "cell_type": "code",
      "source": [
        "df_melb_perc.loc[df_melb_perc.Rooms == 1].describe().T"
      ],
      "metadata": {
        "colab": {
          "base_uri": "https://localhost:8080/",
          "height": 457
        },
        "id": "KRPNQHYQQ4Kk",
        "outputId": "162790e2-3662-41be-bfaf-0c720b2caed0"
      },
      "execution_count": 15,
      "outputs": [
        {
          "output_type": "execute_result",
          "data": {
            "text/plain": [
              "               count      mean       std       min       25%       50%  \\\n",
              "Rooms         283.00      1.00      0.00      1.00      1.00      1.00   \n",
              "Price         283.00 575537.28 259961.04 407000.00 440000.00 482500.00   \n",
              "Distance      283.00      4.92      3.06      0.70      2.75      4.50   \n",
              "Postcode      283.00   3113.67     63.62   3000.00   3058.00   3122.00   \n",
              "Bedroom2      283.00      1.05      0.25      1.00      1.00      1.00   \n",
              "Bathroom      283.00      1.01      0.13      0.00      1.00      1.00   \n",
              "Car           280.00      0.88      0.55      0.00      1.00      1.00   \n",
              "Landsize      283.00    382.87   1021.57      0.00      0.00      0.00   \n",
              "BuildingArea  138.00     61.06     31.23      1.00     50.00     55.00   \n",
              "YearBuilt     176.00   1976.82     34.46   1888.00   1960.00   1985.00   \n",
              "Lattitude     283.00    -37.82      0.04    -38.01    -37.85    -37.83   \n",
              "Longtitude    283.00    144.99      0.04    144.81    144.97    144.99   \n",
              "Propertycount 283.00   8929.18   4469.80   1123.00   5358.50   8400.00   \n",
              "\n",
              "                    75%        max  \n",
              "Rooms              1.00       1.00  \n",
              "Price         562500.00 2115000.00  \n",
              "Distance           6.10      21.50  \n",
              "Postcode        3181.00    3207.00  \n",
              "Bedroom2           1.00       3.00  \n",
              "Bathroom           1.00       2.00  \n",
              "Car                1.00       4.00  \n",
              "Landsize         248.50    8223.00  \n",
              "BuildingArea      62.00     303.00  \n",
              "YearBuilt       2005.00    2016.00  \n",
              "Lattitude        -37.80     -37.68  \n",
              "Longtitude       145.00     145.09  \n",
              "Propertycount  13240.00   21650.00  "
            ],
            "text/html": [
              "\n",
              "  <div id=\"df-778c6ea8-233f-4144-a3da-8144ffe38e43\">\n",
              "    <div class=\"colab-df-container\">\n",
              "      <div>\n",
              "<style scoped>\n",
              "    .dataframe tbody tr th:only-of-type {\n",
              "        vertical-align: middle;\n",
              "    }\n",
              "\n",
              "    .dataframe tbody tr th {\n",
              "        vertical-align: top;\n",
              "    }\n",
              "\n",
              "    .dataframe thead th {\n",
              "        text-align: right;\n",
              "    }\n",
              "</style>\n",
              "<table border=\"1\" class=\"dataframe\">\n",
              "  <thead>\n",
              "    <tr style=\"text-align: right;\">\n",
              "      <th></th>\n",
              "      <th>count</th>\n",
              "      <th>mean</th>\n",
              "      <th>std</th>\n",
              "      <th>min</th>\n",
              "      <th>25%</th>\n",
              "      <th>50%</th>\n",
              "      <th>75%</th>\n",
              "      <th>max</th>\n",
              "    </tr>\n",
              "  </thead>\n",
              "  <tbody>\n",
              "    <tr>\n",
              "      <th>Rooms</th>\n",
              "      <td>283.00</td>\n",
              "      <td>1.00</td>\n",
              "      <td>0.00</td>\n",
              "      <td>1.00</td>\n",
              "      <td>1.00</td>\n",
              "      <td>1.00</td>\n",
              "      <td>1.00</td>\n",
              "      <td>1.00</td>\n",
              "    </tr>\n",
              "    <tr>\n",
              "      <th>Price</th>\n",
              "      <td>283.00</td>\n",
              "      <td>575537.28</td>\n",
              "      <td>259961.04</td>\n",
              "      <td>407000.00</td>\n",
              "      <td>440000.00</td>\n",
              "      <td>482500.00</td>\n",
              "      <td>562500.00</td>\n",
              "      <td>2115000.00</td>\n",
              "    </tr>\n",
              "    <tr>\n",
              "      <th>Distance</th>\n",
              "      <td>283.00</td>\n",
              "      <td>4.92</td>\n",
              "      <td>3.06</td>\n",
              "      <td>0.70</td>\n",
              "      <td>2.75</td>\n",
              "      <td>4.50</td>\n",
              "      <td>6.10</td>\n",
              "      <td>21.50</td>\n",
              "    </tr>\n",
              "    <tr>\n",
              "      <th>Postcode</th>\n",
              "      <td>283.00</td>\n",
              "      <td>3113.67</td>\n",
              "      <td>63.62</td>\n",
              "      <td>3000.00</td>\n",
              "      <td>3058.00</td>\n",
              "      <td>3122.00</td>\n",
              "      <td>3181.00</td>\n",
              "      <td>3207.00</td>\n",
              "    </tr>\n",
              "    <tr>\n",
              "      <th>Bedroom2</th>\n",
              "      <td>283.00</td>\n",
              "      <td>1.05</td>\n",
              "      <td>0.25</td>\n",
              "      <td>1.00</td>\n",
              "      <td>1.00</td>\n",
              "      <td>1.00</td>\n",
              "      <td>1.00</td>\n",
              "      <td>3.00</td>\n",
              "    </tr>\n",
              "    <tr>\n",
              "      <th>Bathroom</th>\n",
              "      <td>283.00</td>\n",
              "      <td>1.01</td>\n",
              "      <td>0.13</td>\n",
              "      <td>0.00</td>\n",
              "      <td>1.00</td>\n",
              "      <td>1.00</td>\n",
              "      <td>1.00</td>\n",
              "      <td>2.00</td>\n",
              "    </tr>\n",
              "    <tr>\n",
              "      <th>Car</th>\n",
              "      <td>280.00</td>\n",
              "      <td>0.88</td>\n",
              "      <td>0.55</td>\n",
              "      <td>0.00</td>\n",
              "      <td>1.00</td>\n",
              "      <td>1.00</td>\n",
              "      <td>1.00</td>\n",
              "      <td>4.00</td>\n",
              "    </tr>\n",
              "    <tr>\n",
              "      <th>Landsize</th>\n",
              "      <td>283.00</td>\n",
              "      <td>382.87</td>\n",
              "      <td>1021.57</td>\n",
              "      <td>0.00</td>\n",
              "      <td>0.00</td>\n",
              "      <td>0.00</td>\n",
              "      <td>248.50</td>\n",
              "      <td>8223.00</td>\n",
              "    </tr>\n",
              "    <tr>\n",
              "      <th>BuildingArea</th>\n",
              "      <td>138.00</td>\n",
              "      <td>61.06</td>\n",
              "      <td>31.23</td>\n",
              "      <td>1.00</td>\n",
              "      <td>50.00</td>\n",
              "      <td>55.00</td>\n",
              "      <td>62.00</td>\n",
              "      <td>303.00</td>\n",
              "    </tr>\n",
              "    <tr>\n",
              "      <th>YearBuilt</th>\n",
              "      <td>176.00</td>\n",
              "      <td>1976.82</td>\n",
              "      <td>34.46</td>\n",
              "      <td>1888.00</td>\n",
              "      <td>1960.00</td>\n",
              "      <td>1985.00</td>\n",
              "      <td>2005.00</td>\n",
              "      <td>2016.00</td>\n",
              "    </tr>\n",
              "    <tr>\n",
              "      <th>Lattitude</th>\n",
              "      <td>283.00</td>\n",
              "      <td>-37.82</td>\n",
              "      <td>0.04</td>\n",
              "      <td>-38.01</td>\n",
              "      <td>-37.85</td>\n",
              "      <td>-37.83</td>\n",
              "      <td>-37.80</td>\n",
              "      <td>-37.68</td>\n",
              "    </tr>\n",
              "    <tr>\n",
              "      <th>Longtitude</th>\n",
              "      <td>283.00</td>\n",
              "      <td>144.99</td>\n",
              "      <td>0.04</td>\n",
              "      <td>144.81</td>\n",
              "      <td>144.97</td>\n",
              "      <td>144.99</td>\n",
              "      <td>145.00</td>\n",
              "      <td>145.09</td>\n",
              "    </tr>\n",
              "    <tr>\n",
              "      <th>Propertycount</th>\n",
              "      <td>283.00</td>\n",
              "      <td>8929.18</td>\n",
              "      <td>4469.80</td>\n",
              "      <td>1123.00</td>\n",
              "      <td>5358.50</td>\n",
              "      <td>8400.00</td>\n",
              "      <td>13240.00</td>\n",
              "      <td>21650.00</td>\n",
              "    </tr>\n",
              "  </tbody>\n",
              "</table>\n",
              "</div>\n",
              "      <button class=\"colab-df-convert\" onclick=\"convertToInteractive('df-778c6ea8-233f-4144-a3da-8144ffe38e43')\"\n",
              "              title=\"Convert this dataframe to an interactive table.\"\n",
              "              style=\"display:none;\">\n",
              "        \n",
              "  <svg xmlns=\"http://www.w3.org/2000/svg\" height=\"24px\"viewBox=\"0 0 24 24\"\n",
              "       width=\"24px\">\n",
              "    <path d=\"M0 0h24v24H0V0z\" fill=\"none\"/>\n",
              "    <path d=\"M18.56 5.44l.94 2.06.94-2.06 2.06-.94-2.06-.94-.94-2.06-.94 2.06-2.06.94zm-11 1L8.5 8.5l.94-2.06 2.06-.94-2.06-.94L8.5 2.5l-.94 2.06-2.06.94zm10 10l.94 2.06.94-2.06 2.06-.94-2.06-.94-.94-2.06-.94 2.06-2.06.94z\"/><path d=\"M17.41 7.96l-1.37-1.37c-.4-.4-.92-.59-1.43-.59-.52 0-1.04.2-1.43.59L10.3 9.45l-7.72 7.72c-.78.78-.78 2.05 0 2.83L4 21.41c.39.39.9.59 1.41.59.51 0 1.02-.2 1.41-.59l7.78-7.78 2.81-2.81c.8-.78.8-2.07 0-2.86zM5.41 20L4 18.59l7.72-7.72 1.47 1.35L5.41 20z\"/>\n",
              "  </svg>\n",
              "      </button>\n",
              "      \n",
              "  <style>\n",
              "    .colab-df-container {\n",
              "      display:flex;\n",
              "      flex-wrap:wrap;\n",
              "      gap: 12px;\n",
              "    }\n",
              "\n",
              "    .colab-df-convert {\n",
              "      background-color: #E8F0FE;\n",
              "      border: none;\n",
              "      border-radius: 50%;\n",
              "      cursor: pointer;\n",
              "      display: none;\n",
              "      fill: #1967D2;\n",
              "      height: 32px;\n",
              "      padding: 0 0 0 0;\n",
              "      width: 32px;\n",
              "    }\n",
              "\n",
              "    .colab-df-convert:hover {\n",
              "      background-color: #E2EBFA;\n",
              "      box-shadow: 0px 1px 2px rgba(60, 64, 67, 0.3), 0px 1px 3px 1px rgba(60, 64, 67, 0.15);\n",
              "      fill: #174EA6;\n",
              "    }\n",
              "\n",
              "    [theme=dark] .colab-df-convert {\n",
              "      background-color: #3B4455;\n",
              "      fill: #D2E3FC;\n",
              "    }\n",
              "\n",
              "    [theme=dark] .colab-df-convert:hover {\n",
              "      background-color: #434B5C;\n",
              "      box-shadow: 0px 1px 3px 1px rgba(0, 0, 0, 0.15);\n",
              "      filter: drop-shadow(0px 1px 2px rgba(0, 0, 0, 0.3));\n",
              "      fill: #FFFFFF;\n",
              "    }\n",
              "  </style>\n",
              "\n",
              "      <script>\n",
              "        const buttonEl =\n",
              "          document.querySelector('#df-778c6ea8-233f-4144-a3da-8144ffe38e43 button.colab-df-convert');\n",
              "        buttonEl.style.display =\n",
              "          google.colab.kernel.accessAllowed ? 'block' : 'none';\n",
              "\n",
              "        async function convertToInteractive(key) {\n",
              "          const element = document.querySelector('#df-778c6ea8-233f-4144-a3da-8144ffe38e43');\n",
              "          const dataTable =\n",
              "            await google.colab.kernel.invokeFunction('convertToInteractive',\n",
              "                                                     [key], {});\n",
              "          if (!dataTable) return;\n",
              "\n",
              "          const docLinkHtml = 'Like what you see? Visit the ' +\n",
              "            '<a target=\"_blank\" href=https://colab.research.google.com/notebooks/data_table.ipynb>data table notebook</a>'\n",
              "            + ' to learn more about interactive tables.';\n",
              "          element.innerHTML = '';\n",
              "          dataTable['output_type'] = 'display_data';\n",
              "          await google.colab.output.renderOutput(dataTable, element);\n",
              "          const docLink = document.createElement('div');\n",
              "          docLink.innerHTML = docLinkHtml;\n",
              "          element.appendChild(docLink);\n",
              "        }\n",
              "      </script>\n",
              "    </div>\n",
              "  </div>\n",
              "  "
            ]
          },
          "metadata": {},
          "execution_count": 15
        }
      ]
    },
    {
      "cell_type": "markdown",
      "source": [
        "### * Repetimos el paso anterior esta vez teniendo en cuenta aquellos registros que tengan dos habitación:"
      ],
      "metadata": {
        "id": "wvNueaWgaiBW"
      }
    },
    {
      "cell_type": "code",
      "source": [
        "df_melb_perc.loc[df_melb_perc.Rooms == 2].describe().T"
      ],
      "metadata": {
        "colab": {
          "base_uri": "https://localhost:8080/",
          "height": 457
        },
        "id": "2Yg7-fzndkxy",
        "outputId": "817c4152-88ee-421d-fa38-eed6eb6aeb17"
      },
      "execution_count": 16,
      "outputs": [
        {
          "output_type": "execute_result",
          "data": {
            "text/plain": [
              "                count      mean       std       min       25%       50%  \\\n",
              "Rooms         3406.00      2.00      0.00      2.00      2.00      2.00   \n",
              "Price         3406.00 791766.24 311606.65 406000.00 566000.00 706000.00   \n",
              "Distance      3406.00      7.55      4.17      0.00      4.50      7.00   \n",
              "Postcode      3406.00   3102.41     62.10   3000.00   3053.00   3087.00   \n",
              "Bedroom2      3406.00      2.02      0.21      0.00      2.00      2.00   \n",
              "Bathroom      3406.00      1.14      0.37      0.00      1.00      1.00   \n",
              "Car           3380.00      1.13      0.69      0.00      1.00      1.00   \n",
              "Landsize      3406.00    423.18   1466.31      0.00      0.00    159.00   \n",
              "BuildingArea  1729.00     94.49    102.17      0.00     73.00     85.00   \n",
              "YearBuilt     2107.00   1966.03     37.41   1830.00   1950.00   1970.00   \n",
              "Lattitude     3406.00    -37.82      0.06    -38.16    -37.85    -37.81   \n",
              "Longtitude    3406.00    144.99      0.07    144.66    144.95    144.99   \n",
              "Propertycount 3406.00   7749.25   4331.69    394.00   4675.00   6821.00   \n",
              "\n",
              "                    75%        max  \n",
              "Rooms              2.00       2.00  \n",
              "Price         930750.00 2265000.00  \n",
              "Distance          10.40      38.00  \n",
              "Postcode        3161.00    3782.00  \n",
              "Bedroom2           2.00       5.00  \n",
              "Bathroom           1.00       3.00  \n",
              "Car                1.00       6.00  \n",
              "Landsize         368.00   37000.00  \n",
              "BuildingArea     102.00    3558.00  \n",
              "YearBuilt       2000.00    2018.00  \n",
              "Lattitude        -37.77     -37.65  \n",
              "Longtitude       145.03     145.45  \n",
              "Propertycount  10412.00   21650.00  "
            ],
            "text/html": [
              "\n",
              "  <div id=\"df-aa9a46c6-1044-41f2-919c-58935be96e43\">\n",
              "    <div class=\"colab-df-container\">\n",
              "      <div>\n",
              "<style scoped>\n",
              "    .dataframe tbody tr th:only-of-type {\n",
              "        vertical-align: middle;\n",
              "    }\n",
              "\n",
              "    .dataframe tbody tr th {\n",
              "        vertical-align: top;\n",
              "    }\n",
              "\n",
              "    .dataframe thead th {\n",
              "        text-align: right;\n",
              "    }\n",
              "</style>\n",
              "<table border=\"1\" class=\"dataframe\">\n",
              "  <thead>\n",
              "    <tr style=\"text-align: right;\">\n",
              "      <th></th>\n",
              "      <th>count</th>\n",
              "      <th>mean</th>\n",
              "      <th>std</th>\n",
              "      <th>min</th>\n",
              "      <th>25%</th>\n",
              "      <th>50%</th>\n",
              "      <th>75%</th>\n",
              "      <th>max</th>\n",
              "    </tr>\n",
              "  </thead>\n",
              "  <tbody>\n",
              "    <tr>\n",
              "      <th>Rooms</th>\n",
              "      <td>3406.00</td>\n",
              "      <td>2.00</td>\n",
              "      <td>0.00</td>\n",
              "      <td>2.00</td>\n",
              "      <td>2.00</td>\n",
              "      <td>2.00</td>\n",
              "      <td>2.00</td>\n",
              "      <td>2.00</td>\n",
              "    </tr>\n",
              "    <tr>\n",
              "      <th>Price</th>\n",
              "      <td>3406.00</td>\n",
              "      <td>791766.24</td>\n",
              "      <td>311606.65</td>\n",
              "      <td>406000.00</td>\n",
              "      <td>566000.00</td>\n",
              "      <td>706000.00</td>\n",
              "      <td>930750.00</td>\n",
              "      <td>2265000.00</td>\n",
              "    </tr>\n",
              "    <tr>\n",
              "      <th>Distance</th>\n",
              "      <td>3406.00</td>\n",
              "      <td>7.55</td>\n",
              "      <td>4.17</td>\n",
              "      <td>0.00</td>\n",
              "      <td>4.50</td>\n",
              "      <td>7.00</td>\n",
              "      <td>10.40</td>\n",
              "      <td>38.00</td>\n",
              "    </tr>\n",
              "    <tr>\n",
              "      <th>Postcode</th>\n",
              "      <td>3406.00</td>\n",
              "      <td>3102.41</td>\n",
              "      <td>62.10</td>\n",
              "      <td>3000.00</td>\n",
              "      <td>3053.00</td>\n",
              "      <td>3087.00</td>\n",
              "      <td>3161.00</td>\n",
              "      <td>3782.00</td>\n",
              "    </tr>\n",
              "    <tr>\n",
              "      <th>Bedroom2</th>\n",
              "      <td>3406.00</td>\n",
              "      <td>2.02</td>\n",
              "      <td>0.21</td>\n",
              "      <td>0.00</td>\n",
              "      <td>2.00</td>\n",
              "      <td>2.00</td>\n",
              "      <td>2.00</td>\n",
              "      <td>5.00</td>\n",
              "    </tr>\n",
              "    <tr>\n",
              "      <th>Bathroom</th>\n",
              "      <td>3406.00</td>\n",
              "      <td>1.14</td>\n",
              "      <td>0.37</td>\n",
              "      <td>0.00</td>\n",
              "      <td>1.00</td>\n",
              "      <td>1.00</td>\n",
              "      <td>1.00</td>\n",
              "      <td>3.00</td>\n",
              "    </tr>\n",
              "    <tr>\n",
              "      <th>Car</th>\n",
              "      <td>3380.00</td>\n",
              "      <td>1.13</td>\n",
              "      <td>0.69</td>\n",
              "      <td>0.00</td>\n",
              "      <td>1.00</td>\n",
              "      <td>1.00</td>\n",
              "      <td>1.00</td>\n",
              "      <td>6.00</td>\n",
              "    </tr>\n",
              "    <tr>\n",
              "      <th>Landsize</th>\n",
              "      <td>3406.00</td>\n",
              "      <td>423.18</td>\n",
              "      <td>1466.31</td>\n",
              "      <td>0.00</td>\n",
              "      <td>0.00</td>\n",
              "      <td>159.00</td>\n",
              "      <td>368.00</td>\n",
              "      <td>37000.00</td>\n",
              "    </tr>\n",
              "    <tr>\n",
              "      <th>BuildingArea</th>\n",
              "      <td>1729.00</td>\n",
              "      <td>94.49</td>\n",
              "      <td>102.17</td>\n",
              "      <td>0.00</td>\n",
              "      <td>73.00</td>\n",
              "      <td>85.00</td>\n",
              "      <td>102.00</td>\n",
              "      <td>3558.00</td>\n",
              "    </tr>\n",
              "    <tr>\n",
              "      <th>YearBuilt</th>\n",
              "      <td>2107.00</td>\n",
              "      <td>1966.03</td>\n",
              "      <td>37.41</td>\n",
              "      <td>1830.00</td>\n",
              "      <td>1950.00</td>\n",
              "      <td>1970.00</td>\n",
              "      <td>2000.00</td>\n",
              "      <td>2018.00</td>\n",
              "    </tr>\n",
              "    <tr>\n",
              "      <th>Lattitude</th>\n",
              "      <td>3406.00</td>\n",
              "      <td>-37.82</td>\n",
              "      <td>0.06</td>\n",
              "      <td>-38.16</td>\n",
              "      <td>-37.85</td>\n",
              "      <td>-37.81</td>\n",
              "      <td>-37.77</td>\n",
              "      <td>-37.65</td>\n",
              "    </tr>\n",
              "    <tr>\n",
              "      <th>Longtitude</th>\n",
              "      <td>3406.00</td>\n",
              "      <td>144.99</td>\n",
              "      <td>0.07</td>\n",
              "      <td>144.66</td>\n",
              "      <td>144.95</td>\n",
              "      <td>144.99</td>\n",
              "      <td>145.03</td>\n",
              "      <td>145.45</td>\n",
              "    </tr>\n",
              "    <tr>\n",
              "      <th>Propertycount</th>\n",
              "      <td>3406.00</td>\n",
              "      <td>7749.25</td>\n",
              "      <td>4331.69</td>\n",
              "      <td>394.00</td>\n",
              "      <td>4675.00</td>\n",
              "      <td>6821.00</td>\n",
              "      <td>10412.00</td>\n",
              "      <td>21650.00</td>\n",
              "    </tr>\n",
              "  </tbody>\n",
              "</table>\n",
              "</div>\n",
              "      <button class=\"colab-df-convert\" onclick=\"convertToInteractive('df-aa9a46c6-1044-41f2-919c-58935be96e43')\"\n",
              "              title=\"Convert this dataframe to an interactive table.\"\n",
              "              style=\"display:none;\">\n",
              "        \n",
              "  <svg xmlns=\"http://www.w3.org/2000/svg\" height=\"24px\"viewBox=\"0 0 24 24\"\n",
              "       width=\"24px\">\n",
              "    <path d=\"M0 0h24v24H0V0z\" fill=\"none\"/>\n",
              "    <path d=\"M18.56 5.44l.94 2.06.94-2.06 2.06-.94-2.06-.94-.94-2.06-.94 2.06-2.06.94zm-11 1L8.5 8.5l.94-2.06 2.06-.94-2.06-.94L8.5 2.5l-.94 2.06-2.06.94zm10 10l.94 2.06.94-2.06 2.06-.94-2.06-.94-.94-2.06-.94 2.06-2.06.94z\"/><path d=\"M17.41 7.96l-1.37-1.37c-.4-.4-.92-.59-1.43-.59-.52 0-1.04.2-1.43.59L10.3 9.45l-7.72 7.72c-.78.78-.78 2.05 0 2.83L4 21.41c.39.39.9.59 1.41.59.51 0 1.02-.2 1.41-.59l7.78-7.78 2.81-2.81c.8-.78.8-2.07 0-2.86zM5.41 20L4 18.59l7.72-7.72 1.47 1.35L5.41 20z\"/>\n",
              "  </svg>\n",
              "      </button>\n",
              "      \n",
              "  <style>\n",
              "    .colab-df-container {\n",
              "      display:flex;\n",
              "      flex-wrap:wrap;\n",
              "      gap: 12px;\n",
              "    }\n",
              "\n",
              "    .colab-df-convert {\n",
              "      background-color: #E8F0FE;\n",
              "      border: none;\n",
              "      border-radius: 50%;\n",
              "      cursor: pointer;\n",
              "      display: none;\n",
              "      fill: #1967D2;\n",
              "      height: 32px;\n",
              "      padding: 0 0 0 0;\n",
              "      width: 32px;\n",
              "    }\n",
              "\n",
              "    .colab-df-convert:hover {\n",
              "      background-color: #E2EBFA;\n",
              "      box-shadow: 0px 1px 2px rgba(60, 64, 67, 0.3), 0px 1px 3px 1px rgba(60, 64, 67, 0.15);\n",
              "      fill: #174EA6;\n",
              "    }\n",
              "\n",
              "    [theme=dark] .colab-df-convert {\n",
              "      background-color: #3B4455;\n",
              "      fill: #D2E3FC;\n",
              "    }\n",
              "\n",
              "    [theme=dark] .colab-df-convert:hover {\n",
              "      background-color: #434B5C;\n",
              "      box-shadow: 0px 1px 3px 1px rgba(0, 0, 0, 0.15);\n",
              "      filter: drop-shadow(0px 1px 2px rgba(0, 0, 0, 0.3));\n",
              "      fill: #FFFFFF;\n",
              "    }\n",
              "  </style>\n",
              "\n",
              "      <script>\n",
              "        const buttonEl =\n",
              "          document.querySelector('#df-aa9a46c6-1044-41f2-919c-58935be96e43 button.colab-df-convert');\n",
              "        buttonEl.style.display =\n",
              "          google.colab.kernel.accessAllowed ? 'block' : 'none';\n",
              "\n",
              "        async function convertToInteractive(key) {\n",
              "          const element = document.querySelector('#df-aa9a46c6-1044-41f2-919c-58935be96e43');\n",
              "          const dataTable =\n",
              "            await google.colab.kernel.invokeFunction('convertToInteractive',\n",
              "                                                     [key], {});\n",
              "          if (!dataTable) return;\n",
              "\n",
              "          const docLinkHtml = 'Like what you see? Visit the ' +\n",
              "            '<a target=\"_blank\" href=https://colab.research.google.com/notebooks/data_table.ipynb>data table notebook</a>'\n",
              "            + ' to learn more about interactive tables.';\n",
              "          element.innerHTML = '';\n",
              "          dataTable['output_type'] = 'display_data';\n",
              "          await google.colab.output.renderOutput(dataTable, element);\n",
              "          const docLink = document.createElement('div');\n",
              "          docLink.innerHTML = docLinkHtml;\n",
              "          element.appendChild(docLink);\n",
              "        }\n",
              "      </script>\n",
              "    </div>\n",
              "  </div>\n",
              "  "
            ]
          },
          "metadata": {},
          "execution_count": 16
        }
      ]
    },
    {
      "cell_type": "markdown",
      "source": [
        "### * Excluimos aquellos los registros en donde los baños y dormitorios superen el número de habitaciónes habitación. A su vez, tomamos esto un como criterio de limpieza de la base de datos:"
      ],
      "metadata": {
        "id": "56k3YEbKWmWf"
      }
    },
    {
      "cell_type": "code",
      "source": [
        "df_melb_perc.loc[~(df_melb_perc.Rooms < df_melb_perc.Bedroom2 + df_melb_perc.Bathroom)].describe().T"
      ],
      "metadata": {
        "colab": {
          "base_uri": "https://localhost:8080/",
          "height": 457
        },
        "id": "FG3BHchEd01g",
        "outputId": "dbe98636-2d15-4e17-fe94-a8d0c859dda3"
      },
      "execution_count": 17,
      "outputs": [
        {
          "output_type": "execute_result",
          "data": {
            "text/plain": [
              "               count       mean       std       min       25%       50%  \\\n",
              "Rooms         249.00       3.35      0.95      2.00      3.00      3.00   \n",
              "Price         249.00 1046680.72 410738.50 410000.00 758500.00 970000.00   \n",
              "Distance      249.00       8.45      3.69      1.50      6.30      8.20   \n",
              "Postcode      249.00    3083.86     57.86   3000.00   3039.00   3072.00   \n",
              "Bedroom2      249.00       2.14      0.88      0.00      2.00      2.00   \n",
              "Bathroom      249.00       1.01      0.54      0.00      1.00      1.00   \n",
              "Car           249.00       1.31      0.97      0.00      1.00      1.00   \n",
              "Landsize      249.00     424.06    351.16      0.00    209.00    426.00   \n",
              "BuildingArea  117.00     143.50    114.37     20.00     99.00    126.00   \n",
              "YearBuilt     131.00    1944.38     33.72   1890.00   1920.00   1950.00   \n",
              "Lattitude     249.00     -37.80      0.06    -38.10    -37.84    -37.80   \n",
              "Longtitude    249.00     144.98      0.08    144.80    144.92    144.99   \n",
              "Propertycount 249.00    7218.96   4504.16    588.00   3755.00   5682.00   \n",
              "\n",
              "                     75%        max  \n",
              "Rooms               4.00       8.00  \n",
              "Price         1295000.00 2250000.00  \n",
              "Distance           11.20      34.90  \n",
              "Postcode         3127.00    3207.00  \n",
              "Bedroom2            3.00       6.00  \n",
              "Bathroom            1.00       3.00  \n",
              "Car                 2.00       5.00  \n",
              "Landsize          600.00    4051.00  \n",
              "BuildingArea      155.00    1022.00  \n",
              "YearBuilt        1965.00    2014.00  \n",
              "Lattitude         -37.76     -37.69  \n",
              "Longtitude        145.04     145.18  \n",
              "Propertycount    9028.00   21650.00  "
            ],
            "text/html": [
              "\n",
              "  <div id=\"df-27efb716-3083-4026-a7b6-b84d0d9ca8e4\">\n",
              "    <div class=\"colab-df-container\">\n",
              "      <div>\n",
              "<style scoped>\n",
              "    .dataframe tbody tr th:only-of-type {\n",
              "        vertical-align: middle;\n",
              "    }\n",
              "\n",
              "    .dataframe tbody tr th {\n",
              "        vertical-align: top;\n",
              "    }\n",
              "\n",
              "    .dataframe thead th {\n",
              "        text-align: right;\n",
              "    }\n",
              "</style>\n",
              "<table border=\"1\" class=\"dataframe\">\n",
              "  <thead>\n",
              "    <tr style=\"text-align: right;\">\n",
              "      <th></th>\n",
              "      <th>count</th>\n",
              "      <th>mean</th>\n",
              "      <th>std</th>\n",
              "      <th>min</th>\n",
              "      <th>25%</th>\n",
              "      <th>50%</th>\n",
              "      <th>75%</th>\n",
              "      <th>max</th>\n",
              "    </tr>\n",
              "  </thead>\n",
              "  <tbody>\n",
              "    <tr>\n",
              "      <th>Rooms</th>\n",
              "      <td>249.00</td>\n",
              "      <td>3.35</td>\n",
              "      <td>0.95</td>\n",
              "      <td>2.00</td>\n",
              "      <td>3.00</td>\n",
              "      <td>3.00</td>\n",
              "      <td>4.00</td>\n",
              "      <td>8.00</td>\n",
              "    </tr>\n",
              "    <tr>\n",
              "      <th>Price</th>\n",
              "      <td>249.00</td>\n",
              "      <td>1046680.72</td>\n",
              "      <td>410738.50</td>\n",
              "      <td>410000.00</td>\n",
              "      <td>758500.00</td>\n",
              "      <td>970000.00</td>\n",
              "      <td>1295000.00</td>\n",
              "      <td>2250000.00</td>\n",
              "    </tr>\n",
              "    <tr>\n",
              "      <th>Distance</th>\n",
              "      <td>249.00</td>\n",
              "      <td>8.45</td>\n",
              "      <td>3.69</td>\n",
              "      <td>1.50</td>\n",
              "      <td>6.30</td>\n",
              "      <td>8.20</td>\n",
              "      <td>11.20</td>\n",
              "      <td>34.90</td>\n",
              "    </tr>\n",
              "    <tr>\n",
              "      <th>Postcode</th>\n",
              "      <td>249.00</td>\n",
              "      <td>3083.86</td>\n",
              "      <td>57.86</td>\n",
              "      <td>3000.00</td>\n",
              "      <td>3039.00</td>\n",
              "      <td>3072.00</td>\n",
              "      <td>3127.00</td>\n",
              "      <td>3207.00</td>\n",
              "    </tr>\n",
              "    <tr>\n",
              "      <th>Bedroom2</th>\n",
              "      <td>249.00</td>\n",
              "      <td>2.14</td>\n",
              "      <td>0.88</td>\n",
              "      <td>0.00</td>\n",
              "      <td>2.00</td>\n",
              "      <td>2.00</td>\n",
              "      <td>3.00</td>\n",
              "      <td>6.00</td>\n",
              "    </tr>\n",
              "    <tr>\n",
              "      <th>Bathroom</th>\n",
              "      <td>249.00</td>\n",
              "      <td>1.01</td>\n",
              "      <td>0.54</td>\n",
              "      <td>0.00</td>\n",
              "      <td>1.00</td>\n",
              "      <td>1.00</td>\n",
              "      <td>1.00</td>\n",
              "      <td>3.00</td>\n",
              "    </tr>\n",
              "    <tr>\n",
              "      <th>Car</th>\n",
              "      <td>249.00</td>\n",
              "      <td>1.31</td>\n",
              "      <td>0.97</td>\n",
              "      <td>0.00</td>\n",
              "      <td>1.00</td>\n",
              "      <td>1.00</td>\n",
              "      <td>2.00</td>\n",
              "      <td>5.00</td>\n",
              "    </tr>\n",
              "    <tr>\n",
              "      <th>Landsize</th>\n",
              "      <td>249.00</td>\n",
              "      <td>424.06</td>\n",
              "      <td>351.16</td>\n",
              "      <td>0.00</td>\n",
              "      <td>209.00</td>\n",
              "      <td>426.00</td>\n",
              "      <td>600.00</td>\n",
              "      <td>4051.00</td>\n",
              "    </tr>\n",
              "    <tr>\n",
              "      <th>BuildingArea</th>\n",
              "      <td>117.00</td>\n",
              "      <td>143.50</td>\n",
              "      <td>114.37</td>\n",
              "      <td>20.00</td>\n",
              "      <td>99.00</td>\n",
              "      <td>126.00</td>\n",
              "      <td>155.00</td>\n",
              "      <td>1022.00</td>\n",
              "    </tr>\n",
              "    <tr>\n",
              "      <th>YearBuilt</th>\n",
              "      <td>131.00</td>\n",
              "      <td>1944.38</td>\n",
              "      <td>33.72</td>\n",
              "      <td>1890.00</td>\n",
              "      <td>1920.00</td>\n",
              "      <td>1950.00</td>\n",
              "      <td>1965.00</td>\n",
              "      <td>2014.00</td>\n",
              "    </tr>\n",
              "    <tr>\n",
              "      <th>Lattitude</th>\n",
              "      <td>249.00</td>\n",
              "      <td>-37.80</td>\n",
              "      <td>0.06</td>\n",
              "      <td>-38.10</td>\n",
              "      <td>-37.84</td>\n",
              "      <td>-37.80</td>\n",
              "      <td>-37.76</td>\n",
              "      <td>-37.69</td>\n",
              "    </tr>\n",
              "    <tr>\n",
              "      <th>Longtitude</th>\n",
              "      <td>249.00</td>\n",
              "      <td>144.98</td>\n",
              "      <td>0.08</td>\n",
              "      <td>144.80</td>\n",
              "      <td>144.92</td>\n",
              "      <td>144.99</td>\n",
              "      <td>145.04</td>\n",
              "      <td>145.18</td>\n",
              "    </tr>\n",
              "    <tr>\n",
              "      <th>Propertycount</th>\n",
              "      <td>249.00</td>\n",
              "      <td>7218.96</td>\n",
              "      <td>4504.16</td>\n",
              "      <td>588.00</td>\n",
              "      <td>3755.00</td>\n",
              "      <td>5682.00</td>\n",
              "      <td>9028.00</td>\n",
              "      <td>21650.00</td>\n",
              "    </tr>\n",
              "  </tbody>\n",
              "</table>\n",
              "</div>\n",
              "      <button class=\"colab-df-convert\" onclick=\"convertToInteractive('df-27efb716-3083-4026-a7b6-b84d0d9ca8e4')\"\n",
              "              title=\"Convert this dataframe to an interactive table.\"\n",
              "              style=\"display:none;\">\n",
              "        \n",
              "  <svg xmlns=\"http://www.w3.org/2000/svg\" height=\"24px\"viewBox=\"0 0 24 24\"\n",
              "       width=\"24px\">\n",
              "    <path d=\"M0 0h24v24H0V0z\" fill=\"none\"/>\n",
              "    <path d=\"M18.56 5.44l.94 2.06.94-2.06 2.06-.94-2.06-.94-.94-2.06-.94 2.06-2.06.94zm-11 1L8.5 8.5l.94-2.06 2.06-.94-2.06-.94L8.5 2.5l-.94 2.06-2.06.94zm10 10l.94 2.06.94-2.06 2.06-.94-2.06-.94-.94-2.06-.94 2.06-2.06.94z\"/><path d=\"M17.41 7.96l-1.37-1.37c-.4-.4-.92-.59-1.43-.59-.52 0-1.04.2-1.43.59L10.3 9.45l-7.72 7.72c-.78.78-.78 2.05 0 2.83L4 21.41c.39.39.9.59 1.41.59.51 0 1.02-.2 1.41-.59l7.78-7.78 2.81-2.81c.8-.78.8-2.07 0-2.86zM5.41 20L4 18.59l7.72-7.72 1.47 1.35L5.41 20z\"/>\n",
              "  </svg>\n",
              "      </button>\n",
              "      \n",
              "  <style>\n",
              "    .colab-df-container {\n",
              "      display:flex;\n",
              "      flex-wrap:wrap;\n",
              "      gap: 12px;\n",
              "    }\n",
              "\n",
              "    .colab-df-convert {\n",
              "      background-color: #E8F0FE;\n",
              "      border: none;\n",
              "      border-radius: 50%;\n",
              "      cursor: pointer;\n",
              "      display: none;\n",
              "      fill: #1967D2;\n",
              "      height: 32px;\n",
              "      padding: 0 0 0 0;\n",
              "      width: 32px;\n",
              "    }\n",
              "\n",
              "    .colab-df-convert:hover {\n",
              "      background-color: #E2EBFA;\n",
              "      box-shadow: 0px 1px 2px rgba(60, 64, 67, 0.3), 0px 1px 3px 1px rgba(60, 64, 67, 0.15);\n",
              "      fill: #174EA6;\n",
              "    }\n",
              "\n",
              "    [theme=dark] .colab-df-convert {\n",
              "      background-color: #3B4455;\n",
              "      fill: #D2E3FC;\n",
              "    }\n",
              "\n",
              "    [theme=dark] .colab-df-convert:hover {\n",
              "      background-color: #434B5C;\n",
              "      box-shadow: 0px 1px 3px 1px rgba(0, 0, 0, 0.15);\n",
              "      filter: drop-shadow(0px 1px 2px rgba(0, 0, 0, 0.3));\n",
              "      fill: #FFFFFF;\n",
              "    }\n",
              "  </style>\n",
              "\n",
              "      <script>\n",
              "        const buttonEl =\n",
              "          document.querySelector('#df-27efb716-3083-4026-a7b6-b84d0d9ca8e4 button.colab-df-convert');\n",
              "        buttonEl.style.display =\n",
              "          google.colab.kernel.accessAllowed ? 'block' : 'none';\n",
              "\n",
              "        async function convertToInteractive(key) {\n",
              "          const element = document.querySelector('#df-27efb716-3083-4026-a7b6-b84d0d9ca8e4');\n",
              "          const dataTable =\n",
              "            await google.colab.kernel.invokeFunction('convertToInteractive',\n",
              "                                                     [key], {});\n",
              "          if (!dataTable) return;\n",
              "\n",
              "          const docLinkHtml = 'Like what you see? Visit the ' +\n",
              "            '<a target=\"_blank\" href=https://colab.research.google.com/notebooks/data_table.ipynb>data table notebook</a>'\n",
              "            + ' to learn more about interactive tables.';\n",
              "          element.innerHTML = '';\n",
              "          dataTable['output_type'] = 'display_data';\n",
              "          await google.colab.output.renderOutput(dataTable, element);\n",
              "          const docLink = document.createElement('div');\n",
              "          docLink.innerHTML = docLinkHtml;\n",
              "          element.appendChild(docLink);\n",
              "        }\n",
              "      </script>\n",
              "    </div>\n",
              "  </div>\n",
              "  "
            ]
          },
          "metadata": {},
          "execution_count": 17
        }
      ]
    },
    {
      "cell_type": "markdown",
      "source": [
        "### * Eliminando aquellos registros que la cantidad de dormitorios y baños, superen la cantidad de habitaciones (para la limpieza del conjunto de datos):"
      ],
      "metadata": {
        "id": "CULmDqowXRDP"
      }
    },
    {
      "cell_type": "code",
      "source": [
        "df_melb_clean = df_melb_perc.loc[df_melb_perc.Rooms < df_melb_perc.Bedroom2 + df_melb_perc.Bathroom]"
      ],
      "metadata": {
        "id": "fgGwhvVEexs-"
      },
      "execution_count": 18,
      "outputs": []
    },
    {
      "cell_type": "code",
      "source": [
        "# Conteo de los resultantes:\n",
        "contar_habitaciones(df_melb_clean.Rooms)"
      ],
      "metadata": {
        "colab": {
          "base_uri": "https://localhost:8080/"
        },
        "id": "rmS6_iGVe8NN",
        "outputId": "d2cd7c59-3829-46cb-dc69-e9994dcdff54"
      },
      "execution_count": 19,
      "outputs": [
        {
          "output_type": "stream",
          "name": "stdout",
          "text": [
            "Cantidad de casas con 0 habitaciones: 0\n",
            "Cantidad de casas con 1 habitaciones: 283\n",
            "Cantidad de casas con 2 habitaciones: 6744\n",
            "Cantidad de casas con 3 habitaciones: 16650\n",
            "Cantidad de casas con 4 habitaciones: 9124\n",
            "Cantidad de casas con 5 habitaciones: 2080\n",
            "Cantidad de casas con 6 habitaciones: 306\n",
            "Cantidad de casas con 7 habitaciones: 42\n",
            "Cantidad de casas con 8 habitaciones: 40\n",
            "Cantidad de casas con 9 habitaciones: 0\n",
            "Cantidad de casas con 10 habitaciones: 10\n"
          ]
        }
      ]
    },
    {
      "cell_type": "code",
      "source": [
        "df_melb_recort = df_melb_clean.loc[df_melb_clean.Rooms < 7]\n",
        "\n",
        "df_melb_recort.describe().T"
      ],
      "metadata": {
        "colab": {
          "base_uri": "https://localhost:8080/",
          "height": 457
        },
        "id": "6miiHgNcgsiP",
        "outputId": "f9b60cf3-346f-4b7d-d3cf-db6becc3f17e"
      },
      "execution_count": 20,
      "outputs": [
        {
          "output_type": "execute_result",
          "data": {
            "text/plain": [
              "                 count       mean       std       min       25%       50%  \\\n",
              "Rooms         11953.00       2.94      0.86      1.00      2.00      3.00   \n",
              "Price         11953.00 1010356.66 430771.84 406000.00 670000.00 901000.00   \n",
              "Distance      11953.00      10.34      5.93      0.00      6.30      9.70   \n",
              "Postcode      11953.00    3104.05     91.51   3000.00   3044.00   3082.00   \n",
              "Bedroom2      11953.00       2.95      0.87      1.00      2.00      3.00   \n",
              "Bathroom      11953.00       1.52      0.64      0.00      1.00      1.00   \n",
              "Car           11894.00       1.62      0.95      0.00      1.00      2.00   \n",
              "Landsize      11953.00     525.79   1528.68      0.00    188.00    438.00   \n",
              "BuildingArea   6230.00     149.76    575.47      0.00     96.00    126.00   \n",
              "YearBuilt      7142.00    1965.46     37.12   1196.00   1945.00   1970.00   \n",
              "Lattitude     11953.00     -37.81      0.08    -38.18    -37.86    -37.80   \n",
              "Longtitude    11953.00     145.00      0.11    144.49    144.93    145.00   \n",
              "Propertycount 11953.00    7407.46   4371.89    249.00   4242.00   6543.00   \n",
              "\n",
              "                     75%        max  \n",
              "Rooms               3.00       6.00  \n",
              "Price         1290000.00 2290000.00  \n",
              "Distance           13.30      48.10  \n",
              "Postcode         3148.00    3977.00  \n",
              "Bedroom2            3.00      20.00  \n",
              "Bathroom            2.00       8.00  \n",
              "Car                 2.00      10.00  \n",
              "Landsize          649.00   76000.00  \n",
              "BuildingArea      168.01   44515.00  \n",
              "YearBuilt        2000.00    2018.00  \n",
              "Lattitude         -37.75     -37.45  \n",
              "Longtitude        145.06     145.53  \n",
              "Propertycount   10175.00   21650.00  "
            ],
            "text/html": [
              "\n",
              "  <div id=\"df-739598e8-762f-46f2-a342-c5bd66b1d403\">\n",
              "    <div class=\"colab-df-container\">\n",
              "      <div>\n",
              "<style scoped>\n",
              "    .dataframe tbody tr th:only-of-type {\n",
              "        vertical-align: middle;\n",
              "    }\n",
              "\n",
              "    .dataframe tbody tr th {\n",
              "        vertical-align: top;\n",
              "    }\n",
              "\n",
              "    .dataframe thead th {\n",
              "        text-align: right;\n",
              "    }\n",
              "</style>\n",
              "<table border=\"1\" class=\"dataframe\">\n",
              "  <thead>\n",
              "    <tr style=\"text-align: right;\">\n",
              "      <th></th>\n",
              "      <th>count</th>\n",
              "      <th>mean</th>\n",
              "      <th>std</th>\n",
              "      <th>min</th>\n",
              "      <th>25%</th>\n",
              "      <th>50%</th>\n",
              "      <th>75%</th>\n",
              "      <th>max</th>\n",
              "    </tr>\n",
              "  </thead>\n",
              "  <tbody>\n",
              "    <tr>\n",
              "      <th>Rooms</th>\n",
              "      <td>11953.00</td>\n",
              "      <td>2.94</td>\n",
              "      <td>0.86</td>\n",
              "      <td>1.00</td>\n",
              "      <td>2.00</td>\n",
              "      <td>3.00</td>\n",
              "      <td>3.00</td>\n",
              "      <td>6.00</td>\n",
              "    </tr>\n",
              "    <tr>\n",
              "      <th>Price</th>\n",
              "      <td>11953.00</td>\n",
              "      <td>1010356.66</td>\n",
              "      <td>430771.84</td>\n",
              "      <td>406000.00</td>\n",
              "      <td>670000.00</td>\n",
              "      <td>901000.00</td>\n",
              "      <td>1290000.00</td>\n",
              "      <td>2290000.00</td>\n",
              "    </tr>\n",
              "    <tr>\n",
              "      <th>Distance</th>\n",
              "      <td>11953.00</td>\n",
              "      <td>10.34</td>\n",
              "      <td>5.93</td>\n",
              "      <td>0.00</td>\n",
              "      <td>6.30</td>\n",
              "      <td>9.70</td>\n",
              "      <td>13.30</td>\n",
              "      <td>48.10</td>\n",
              "    </tr>\n",
              "    <tr>\n",
              "      <th>Postcode</th>\n",
              "      <td>11953.00</td>\n",
              "      <td>3104.05</td>\n",
              "      <td>91.51</td>\n",
              "      <td>3000.00</td>\n",
              "      <td>3044.00</td>\n",
              "      <td>3082.00</td>\n",
              "      <td>3148.00</td>\n",
              "      <td>3977.00</td>\n",
              "    </tr>\n",
              "    <tr>\n",
              "      <th>Bedroom2</th>\n",
              "      <td>11953.00</td>\n",
              "      <td>2.95</td>\n",
              "      <td>0.87</td>\n",
              "      <td>1.00</td>\n",
              "      <td>2.00</td>\n",
              "      <td>3.00</td>\n",
              "      <td>3.00</td>\n",
              "      <td>20.00</td>\n",
              "    </tr>\n",
              "    <tr>\n",
              "      <th>Bathroom</th>\n",
              "      <td>11953.00</td>\n",
              "      <td>1.52</td>\n",
              "      <td>0.64</td>\n",
              "      <td>0.00</td>\n",
              "      <td>1.00</td>\n",
              "      <td>1.00</td>\n",
              "      <td>2.00</td>\n",
              "      <td>8.00</td>\n",
              "    </tr>\n",
              "    <tr>\n",
              "      <th>Car</th>\n",
              "      <td>11894.00</td>\n",
              "      <td>1.62</td>\n",
              "      <td>0.95</td>\n",
              "      <td>0.00</td>\n",
              "      <td>1.00</td>\n",
              "      <td>2.00</td>\n",
              "      <td>2.00</td>\n",
              "      <td>10.00</td>\n",
              "    </tr>\n",
              "    <tr>\n",
              "      <th>Landsize</th>\n",
              "      <td>11953.00</td>\n",
              "      <td>525.79</td>\n",
              "      <td>1528.68</td>\n",
              "      <td>0.00</td>\n",
              "      <td>188.00</td>\n",
              "      <td>438.00</td>\n",
              "      <td>649.00</td>\n",
              "      <td>76000.00</td>\n",
              "    </tr>\n",
              "    <tr>\n",
              "      <th>BuildingArea</th>\n",
              "      <td>6230.00</td>\n",
              "      <td>149.76</td>\n",
              "      <td>575.47</td>\n",
              "      <td>0.00</td>\n",
              "      <td>96.00</td>\n",
              "      <td>126.00</td>\n",
              "      <td>168.01</td>\n",
              "      <td>44515.00</td>\n",
              "    </tr>\n",
              "    <tr>\n",
              "      <th>YearBuilt</th>\n",
              "      <td>7142.00</td>\n",
              "      <td>1965.46</td>\n",
              "      <td>37.12</td>\n",
              "      <td>1196.00</td>\n",
              "      <td>1945.00</td>\n",
              "      <td>1970.00</td>\n",
              "      <td>2000.00</td>\n",
              "      <td>2018.00</td>\n",
              "    </tr>\n",
              "    <tr>\n",
              "      <th>Lattitude</th>\n",
              "      <td>11953.00</td>\n",
              "      <td>-37.81</td>\n",
              "      <td>0.08</td>\n",
              "      <td>-38.18</td>\n",
              "      <td>-37.86</td>\n",
              "      <td>-37.80</td>\n",
              "      <td>-37.75</td>\n",
              "      <td>-37.45</td>\n",
              "    </tr>\n",
              "    <tr>\n",
              "      <th>Longtitude</th>\n",
              "      <td>11953.00</td>\n",
              "      <td>145.00</td>\n",
              "      <td>0.11</td>\n",
              "      <td>144.49</td>\n",
              "      <td>144.93</td>\n",
              "      <td>145.00</td>\n",
              "      <td>145.06</td>\n",
              "      <td>145.53</td>\n",
              "    </tr>\n",
              "    <tr>\n",
              "      <th>Propertycount</th>\n",
              "      <td>11953.00</td>\n",
              "      <td>7407.46</td>\n",
              "      <td>4371.89</td>\n",
              "      <td>249.00</td>\n",
              "      <td>4242.00</td>\n",
              "      <td>6543.00</td>\n",
              "      <td>10175.00</td>\n",
              "      <td>21650.00</td>\n",
              "    </tr>\n",
              "  </tbody>\n",
              "</table>\n",
              "</div>\n",
              "      <button class=\"colab-df-convert\" onclick=\"convertToInteractive('df-739598e8-762f-46f2-a342-c5bd66b1d403')\"\n",
              "              title=\"Convert this dataframe to an interactive table.\"\n",
              "              style=\"display:none;\">\n",
              "        \n",
              "  <svg xmlns=\"http://www.w3.org/2000/svg\" height=\"24px\"viewBox=\"0 0 24 24\"\n",
              "       width=\"24px\">\n",
              "    <path d=\"M0 0h24v24H0V0z\" fill=\"none\"/>\n",
              "    <path d=\"M18.56 5.44l.94 2.06.94-2.06 2.06-.94-2.06-.94-.94-2.06-.94 2.06-2.06.94zm-11 1L8.5 8.5l.94-2.06 2.06-.94-2.06-.94L8.5 2.5l-.94 2.06-2.06.94zm10 10l.94 2.06.94-2.06 2.06-.94-2.06-.94-.94-2.06-.94 2.06-2.06.94z\"/><path d=\"M17.41 7.96l-1.37-1.37c-.4-.4-.92-.59-1.43-.59-.52 0-1.04.2-1.43.59L10.3 9.45l-7.72 7.72c-.78.78-.78 2.05 0 2.83L4 21.41c.39.39.9.59 1.41.59.51 0 1.02-.2 1.41-.59l7.78-7.78 2.81-2.81c.8-.78.8-2.07 0-2.86zM5.41 20L4 18.59l7.72-7.72 1.47 1.35L5.41 20z\"/>\n",
              "  </svg>\n",
              "      </button>\n",
              "      \n",
              "  <style>\n",
              "    .colab-df-container {\n",
              "      display:flex;\n",
              "      flex-wrap:wrap;\n",
              "      gap: 12px;\n",
              "    }\n",
              "\n",
              "    .colab-df-convert {\n",
              "      background-color: #E8F0FE;\n",
              "      border: none;\n",
              "      border-radius: 50%;\n",
              "      cursor: pointer;\n",
              "      display: none;\n",
              "      fill: #1967D2;\n",
              "      height: 32px;\n",
              "      padding: 0 0 0 0;\n",
              "      width: 32px;\n",
              "    }\n",
              "\n",
              "    .colab-df-convert:hover {\n",
              "      background-color: #E2EBFA;\n",
              "      box-shadow: 0px 1px 2px rgba(60, 64, 67, 0.3), 0px 1px 3px 1px rgba(60, 64, 67, 0.15);\n",
              "      fill: #174EA6;\n",
              "    }\n",
              "\n",
              "    [theme=dark] .colab-df-convert {\n",
              "      background-color: #3B4455;\n",
              "      fill: #D2E3FC;\n",
              "    }\n",
              "\n",
              "    [theme=dark] .colab-df-convert:hover {\n",
              "      background-color: #434B5C;\n",
              "      box-shadow: 0px 1px 3px 1px rgba(0, 0, 0, 0.15);\n",
              "      filter: drop-shadow(0px 1px 2px rgba(0, 0, 0, 0.3));\n",
              "      fill: #FFFFFF;\n",
              "    }\n",
              "  </style>\n",
              "\n",
              "      <script>\n",
              "        const buttonEl =\n",
              "          document.querySelector('#df-739598e8-762f-46f2-a342-c5bd66b1d403 button.colab-df-convert');\n",
              "        buttonEl.style.display =\n",
              "          google.colab.kernel.accessAllowed ? 'block' : 'none';\n",
              "\n",
              "        async function convertToInteractive(key) {\n",
              "          const element = document.querySelector('#df-739598e8-762f-46f2-a342-c5bd66b1d403');\n",
              "          const dataTable =\n",
              "            await google.colab.kernel.invokeFunction('convertToInteractive',\n",
              "                                                     [key], {});\n",
              "          if (!dataTable) return;\n",
              "\n",
              "          const docLinkHtml = 'Like what you see? Visit the ' +\n",
              "            '<a target=\"_blank\" href=https://colab.research.google.com/notebooks/data_table.ipynb>data table notebook</a>'\n",
              "            + ' to learn more about interactive tables.';\n",
              "          element.innerHTML = '';\n",
              "          dataTable['output_type'] = 'display_data';\n",
              "          await google.colab.output.renderOutput(dataTable, element);\n",
              "          const docLink = document.createElement('div');\n",
              "          docLink.innerHTML = docLinkHtml;\n",
              "          element.appendChild(docLink);\n",
              "        }\n",
              "      </script>\n",
              "    </div>\n",
              "  </div>\n",
              "  "
            ]
          },
          "metadata": {},
          "execution_count": 20
        }
      ]
    },
    {
      "cell_type": "code",
      "source": [
        "print(\"Cantidad de habitaciones por Suburbio\")\n",
        "print(df_melb_perc.groupby(\"Rooms\")[\"Suburb\"].count())"
      ],
      "metadata": {
        "id": "XczQtGTjM4q-",
        "outputId": "a6810ebe-cab3-47b2-9abe-63cf657a788b",
        "colab": {
          "base_uri": "https://localhost:8080/"
        }
      },
      "execution_count": 21,
      "outputs": [
        {
          "output_type": "stream",
          "name": "stdout",
          "text": [
            "Cantidad de habitaciones por Suburbio\n",
            "Rooms\n",
            "1      283\n",
            "2     3406\n",
            "3     5675\n",
            "4     2352\n",
            "5      428\n",
            "6       55\n",
            "7        7\n",
            "8        7\n",
            "10       1\n",
            "Name: Suburb, dtype: int64\n"
          ]
        }
      ]
    },
    {
      "cell_type": "markdown",
      "source": [
        "### * Agregar información adicional respectiva al entorno de una propiedad a partir del conjunto de datos de AirBnB utilizado en el práctico.\n",
        "### * Seleccionar qué variables agregar y qué combinaciones aplicar a cada una. Por ejemplo, pueden utilizar solo la columna price, o aplicar múltiples transformaciones como la mediana o el mínimo.\n",
        "\n",
        "### - Rta//: Ahora vamos a analizar el conjunto de datos df_airbnb: "
      ],
      "metadata": {
        "id": "gwlaCksOkb5S"
      }
    },
    {
      "cell_type": "markdown",
      "source": [
        "#### * Descriptivos:"
      ],
      "metadata": {
        "id": "E4hory87xpnF"
      }
    },
    {
      "cell_type": "code",
      "source": [
        "# Estadisticos descriptivo sobre el cojunto de datos:\n",
        "df_airbnb.describe().T"
      ],
      "metadata": {
        "colab": {
          "base_uri": "https://localhost:8080/",
          "height": 206
        },
        "id": "XT5Ua36IjhlZ",
        "outputId": "b53bedd7-517b-4f0c-8ccc-783bdbd7c72b"
      },
      "execution_count": 22,
      "outputs": [
        {
          "output_type": "execute_result",
          "data": {
            "text/plain": [
              "                 count    mean     std    min     25%     50%     75%      max\n",
              "latitude      22895.00  -37.83    0.07 -38.22  -37.85  -37.82  -37.80   -37.48\n",
              "longitude     22895.00  145.01    0.13 144.48  144.96  144.98  145.01   145.84\n",
              "price         22895.00  148.00  210.88   0.00   71.00  111.00  165.00 12624.00\n",
              "weekly_price   2524.00  906.98  821.22  91.00  450.00  750.00 1066.00 11536.00\n",
              "monthly_price  1891.00 3234.35 2808.09 400.00 1700.00 2800.00 3912.50 54258.00"
            ],
            "text/html": [
              "\n",
              "  <div id=\"df-99f1f126-512c-407a-829f-17622d9837f0\">\n",
              "    <div class=\"colab-df-container\">\n",
              "      <div>\n",
              "<style scoped>\n",
              "    .dataframe tbody tr th:only-of-type {\n",
              "        vertical-align: middle;\n",
              "    }\n",
              "\n",
              "    .dataframe tbody tr th {\n",
              "        vertical-align: top;\n",
              "    }\n",
              "\n",
              "    .dataframe thead th {\n",
              "        text-align: right;\n",
              "    }\n",
              "</style>\n",
              "<table border=\"1\" class=\"dataframe\">\n",
              "  <thead>\n",
              "    <tr style=\"text-align: right;\">\n",
              "      <th></th>\n",
              "      <th>count</th>\n",
              "      <th>mean</th>\n",
              "      <th>std</th>\n",
              "      <th>min</th>\n",
              "      <th>25%</th>\n",
              "      <th>50%</th>\n",
              "      <th>75%</th>\n",
              "      <th>max</th>\n",
              "    </tr>\n",
              "  </thead>\n",
              "  <tbody>\n",
              "    <tr>\n",
              "      <th>latitude</th>\n",
              "      <td>22895.00</td>\n",
              "      <td>-37.83</td>\n",
              "      <td>0.07</td>\n",
              "      <td>-38.22</td>\n",
              "      <td>-37.85</td>\n",
              "      <td>-37.82</td>\n",
              "      <td>-37.80</td>\n",
              "      <td>-37.48</td>\n",
              "    </tr>\n",
              "    <tr>\n",
              "      <th>longitude</th>\n",
              "      <td>22895.00</td>\n",
              "      <td>145.01</td>\n",
              "      <td>0.13</td>\n",
              "      <td>144.48</td>\n",
              "      <td>144.96</td>\n",
              "      <td>144.98</td>\n",
              "      <td>145.01</td>\n",
              "      <td>145.84</td>\n",
              "    </tr>\n",
              "    <tr>\n",
              "      <th>price</th>\n",
              "      <td>22895.00</td>\n",
              "      <td>148.00</td>\n",
              "      <td>210.88</td>\n",
              "      <td>0.00</td>\n",
              "      <td>71.00</td>\n",
              "      <td>111.00</td>\n",
              "      <td>165.00</td>\n",
              "      <td>12624.00</td>\n",
              "    </tr>\n",
              "    <tr>\n",
              "      <th>weekly_price</th>\n",
              "      <td>2524.00</td>\n",
              "      <td>906.98</td>\n",
              "      <td>821.22</td>\n",
              "      <td>91.00</td>\n",
              "      <td>450.00</td>\n",
              "      <td>750.00</td>\n",
              "      <td>1066.00</td>\n",
              "      <td>11536.00</td>\n",
              "    </tr>\n",
              "    <tr>\n",
              "      <th>monthly_price</th>\n",
              "      <td>1891.00</td>\n",
              "      <td>3234.35</td>\n",
              "      <td>2808.09</td>\n",
              "      <td>400.00</td>\n",
              "      <td>1700.00</td>\n",
              "      <td>2800.00</td>\n",
              "      <td>3912.50</td>\n",
              "      <td>54258.00</td>\n",
              "    </tr>\n",
              "  </tbody>\n",
              "</table>\n",
              "</div>\n",
              "      <button class=\"colab-df-convert\" onclick=\"convertToInteractive('df-99f1f126-512c-407a-829f-17622d9837f0')\"\n",
              "              title=\"Convert this dataframe to an interactive table.\"\n",
              "              style=\"display:none;\">\n",
              "        \n",
              "  <svg xmlns=\"http://www.w3.org/2000/svg\" height=\"24px\"viewBox=\"0 0 24 24\"\n",
              "       width=\"24px\">\n",
              "    <path d=\"M0 0h24v24H0V0z\" fill=\"none\"/>\n",
              "    <path d=\"M18.56 5.44l.94 2.06.94-2.06 2.06-.94-2.06-.94-.94-2.06-.94 2.06-2.06.94zm-11 1L8.5 8.5l.94-2.06 2.06-.94-2.06-.94L8.5 2.5l-.94 2.06-2.06.94zm10 10l.94 2.06.94-2.06 2.06-.94-2.06-.94-.94-2.06-.94 2.06-2.06.94z\"/><path d=\"M17.41 7.96l-1.37-1.37c-.4-.4-.92-.59-1.43-.59-.52 0-1.04.2-1.43.59L10.3 9.45l-7.72 7.72c-.78.78-.78 2.05 0 2.83L4 21.41c.39.39.9.59 1.41.59.51 0 1.02-.2 1.41-.59l7.78-7.78 2.81-2.81c.8-.78.8-2.07 0-2.86zM5.41 20L4 18.59l7.72-7.72 1.47 1.35L5.41 20z\"/>\n",
              "  </svg>\n",
              "      </button>\n",
              "      \n",
              "  <style>\n",
              "    .colab-df-container {\n",
              "      display:flex;\n",
              "      flex-wrap:wrap;\n",
              "      gap: 12px;\n",
              "    }\n",
              "\n",
              "    .colab-df-convert {\n",
              "      background-color: #E8F0FE;\n",
              "      border: none;\n",
              "      border-radius: 50%;\n",
              "      cursor: pointer;\n",
              "      display: none;\n",
              "      fill: #1967D2;\n",
              "      height: 32px;\n",
              "      padding: 0 0 0 0;\n",
              "      width: 32px;\n",
              "    }\n",
              "\n",
              "    .colab-df-convert:hover {\n",
              "      background-color: #E2EBFA;\n",
              "      box-shadow: 0px 1px 2px rgba(60, 64, 67, 0.3), 0px 1px 3px 1px rgba(60, 64, 67, 0.15);\n",
              "      fill: #174EA6;\n",
              "    }\n",
              "\n",
              "    [theme=dark] .colab-df-convert {\n",
              "      background-color: #3B4455;\n",
              "      fill: #D2E3FC;\n",
              "    }\n",
              "\n",
              "    [theme=dark] .colab-df-convert:hover {\n",
              "      background-color: #434B5C;\n",
              "      box-shadow: 0px 1px 3px 1px rgba(0, 0, 0, 0.15);\n",
              "      filter: drop-shadow(0px 1px 2px rgba(0, 0, 0, 0.3));\n",
              "      fill: #FFFFFF;\n",
              "    }\n",
              "  </style>\n",
              "\n",
              "      <script>\n",
              "        const buttonEl =\n",
              "          document.querySelector('#df-99f1f126-512c-407a-829f-17622d9837f0 button.colab-df-convert');\n",
              "        buttonEl.style.display =\n",
              "          google.colab.kernel.accessAllowed ? 'block' : 'none';\n",
              "\n",
              "        async function convertToInteractive(key) {\n",
              "          const element = document.querySelector('#df-99f1f126-512c-407a-829f-17622d9837f0');\n",
              "          const dataTable =\n",
              "            await google.colab.kernel.invokeFunction('convertToInteractive',\n",
              "                                                     [key], {});\n",
              "          if (!dataTable) return;\n",
              "\n",
              "          const docLinkHtml = 'Like what you see? Visit the ' +\n",
              "            '<a target=\"_blank\" href=https://colab.research.google.com/notebooks/data_table.ipynb>data table notebook</a>'\n",
              "            + ' to learn more about interactive tables.';\n",
              "          element.innerHTML = '';\n",
              "          dataTable['output_type'] = 'display_data';\n",
              "          await google.colab.output.renderOutput(dataTable, element);\n",
              "          const docLink = document.createElement('div');\n",
              "          docLink.innerHTML = docLinkHtml;\n",
              "          element.appendChild(docLink);\n",
              "        }\n",
              "      </script>\n",
              "    </div>\n",
              "  </div>\n",
              "  "
            ]
          },
          "metadata": {},
          "execution_count": 22
        }
      ]
    },
    {
      "cell_type": "markdown",
      "source": [
        "#### * Tipos de variables presentes en el conjunto de Airbnb:"
      ],
      "metadata": {
        "id": "eDnE3XUNxzEF"
      }
    },
    {
      "cell_type": "code",
      "source": [
        "df_airbnb.dtypes"
      ],
      "metadata": {
        "colab": {
          "base_uri": "https://localhost:8080/"
        },
        "id": "pvcIElC6lANX",
        "outputId": "5fdeb6aa-203d-4d2f-d186-3b44038e5f26"
      },
      "execution_count": 23,
      "outputs": [
        {
          "output_type": "execute_result",
          "data": {
            "text/plain": [
              "description               object\n",
              "neighborhood_overview     object\n",
              "street                    object\n",
              "neighborhood              object\n",
              "city                      object\n",
              "suburb                    object\n",
              "state                     object\n",
              "zipcode                   object\n",
              "latitude                 float64\n",
              "longitude                float64\n",
              "price                      int64\n",
              "weekly_price             float64\n",
              "monthly_price            float64\n",
              "dtype: object"
            ]
          },
          "metadata": {},
          "execution_count": 23
        }
      ]
    },
    {
      "cell_type": "markdown",
      "source": [
        "### * Revisamos la variable Zipcode:"
      ],
      "metadata": {
        "id": "YpHvwz2My6m6"
      }
    },
    {
      "cell_type": "code",
      "source": [
        "df_airbnb.zipcode.value_counts()"
      ],
      "metadata": {
        "colab": {
          "base_uri": "https://localhost:8080/"
        },
        "id": "mCLFCcSAlM0m",
        "outputId": "b9582469-fd4d-490b-b351-8fe4d4989ac0"
      },
      "execution_count": 24,
      "outputs": [
        {
          "output_type": "execute_result",
          "data": {
            "text/plain": [
              "3000.0        2491\n",
              "3000           876\n",
              "3006.0         860\n",
              "3182.0         579\n",
              "3182           556\n",
              "              ... \n",
              "3096             1\n",
              "3812             1\n",
              "3000\\n3000       1\n",
              "3752             1\n",
              "4068.0           1\n",
              "Name: zipcode, Length: 463, dtype: int64"
            ]
          },
          "metadata": {},
          "execution_count": 24
        }
      ]
    },
    {
      "cell_type": "markdown",
      "source": [
        "### * Como se puede notar algunos registros (por ejemplo caso *Zipcode*: 3000.0 -> 2491 y 3000 -> 876), estan tomados como valores flotantes y otros como enteros es por esto que se necesitan unificarlos. "
      ],
      "metadata": {
        "id": "bdJ2AmwXzTV5"
      }
    },
    {
      "cell_type": "code",
      "source": [
        "df_airbnb = df_airbnb.loc[~(df_airbnb.zipcode.isnull())]"
      ],
      "metadata": {
        "id": "-2ANMiwMnF5_"
      },
      "execution_count": 25,
      "outputs": []
    },
    {
      "cell_type": "code",
      "source": [
        "df_airbnb['zipcode'] = pd.to_numeric(df_airbnb.zipcode, errors='coerce')\n"
      ],
      "metadata": {
        "id": "-Awdul_hmzC-",
        "colab": {
          "base_uri": "https://localhost:8080/"
        },
        "outputId": "19f230ef-e450-4b0f-b5dd-faf8445f69b9"
      },
      "execution_count": 26,
      "outputs": [
        {
          "output_type": "stream",
          "name": "stderr",
          "text": [
            "/usr/local/lib/python3.7/dist-packages/ipykernel_launcher.py:1: SettingWithCopyWarning: \n",
            "A value is trying to be set on a copy of a slice from a DataFrame.\n",
            "Try using .loc[row_indexer,col_indexer] = value instead\n",
            "\n",
            "See the caveats in the documentation: https://pandas.pydata.org/pandas-docs/stable/user_guide/indexing.html#returning-a-view-versus-a-copy\n",
            "  \"\"\"Entry point for launching an IPython kernel.\n"
          ]
        }
      ]
    },
    {
      "cell_type": "code",
      "source": [
        "df_airbnb.zipcode.value_counts() # despues de unificar\n"
      ],
      "metadata": {
        "colab": {
          "base_uri": "https://localhost:8080/"
        },
        "id": "smJL1_Ne0LV6",
        "outputId": "85153af8-6b98-4413-ac88-e95b78d631ef"
      },
      "execution_count": 27,
      "outputs": [
        {
          "output_type": "execute_result",
          "data": {
            "text/plain": [
              "3000.00     3367\n",
              "3006.00     1268\n",
              "3182.00     1135\n",
              "3141.00      881\n",
              "3004.00      728\n",
              "            ... \n",
              "3785.00        1\n",
              "3096.00        1\n",
              "30122.00       1\n",
              "3912.00        1\n",
              "4068.00        1\n",
              "Name: zipcode, Length: 247, dtype: int64"
            ]
          },
          "metadata": {},
          "execution_count": 27
        }
      ]
    },
    {
      "cell_type": "code",
      "source": [
        "len(df_airbnb.zipcode.unique())"
      ],
      "metadata": {
        "colab": {
          "base_uri": "https://localhost:8080/"
        },
        "id": "L_9wEDu0sfKx",
        "outputId": "c173c116-9978-46b3-9ff8-bc64490a51c7"
      },
      "execution_count": 28,
      "outputs": [
        {
          "output_type": "execute_result",
          "data": {
            "text/plain": [
              "248"
            ]
          },
          "metadata": {},
          "execution_count": 28
        }
      ]
    },
    {
      "cell_type": "markdown",
      "source": [
        "### * Agrupando la cantidad de registros presentes en zipcode:"
      ],
      "metadata": {
        "id": "wtrv5HrD1fx-"
      }
    },
    {
      "cell_type": "code",
      "source": [
        "df_airbnb['zipcode_count'] = df_airbnb.groupby('zipcode')['zipcode'].transform('count')"
      ],
      "metadata": {
        "id": "vZ8-3nUX0nNq"
      },
      "execution_count": 31,
      "outputs": []
    },
    {
      "cell_type": "code",
      "source": [
        "intersection = np.intersect1d(df_airbnb.zipcode.values, df_melb_perc.Postcode.values, \\\n",
        "                              assume_unique=False)\n",
        "\n",
        "# Controlando: \n",
        "print(f'Valores únicos para Airbnb-Zipcodes len/unique: {df_airbnb.zipcode.isna().sum()}')\n",
        "print(f'Valores únicos para Airbnb-Zipcodes len/unique: {len(df_airbnb.zipcode.unique())}')\n",
        "print(f'Valores únicos para Airbnb-Zipcodes: {df_airbnb.zipcode.nunique()}')\n",
        "print(f'Valores únicos para df_Melbourne-Zipcodes: {df_melb_perc.Postcode.nunique()}')\n",
        "print(f'Elementos en común entre los conjuntos de datos dado el zipcodes: {intersection.size}')"
      ],
      "metadata": {
        "id": "T6m18i9K2876",
        "colab": {
          "base_uri": "https://localhost:8080/"
        },
        "outputId": "3139cd29-1cf6-422b-b012-3023d3207cfe"
      },
      "execution_count": 32,
      "outputs": [
        {
          "output_type": "stream",
          "name": "stdout",
          "text": [
            "Valores únicos para Airbnb-Zipcodes len/unique: 4\n",
            "Valores únicos para Airbnb-Zipcodes len/unique: 248\n",
            "Valores únicos para Airbnb-Zipcodes: 247\n",
            "Valores únicos para df_Melbourne-Zipcodes: 196\n",
            "Elementos en común entre los conjuntos de datos dado el zipcodes: 191\n"
          ]
        }
      ]
    },
    {
      "cell_type": "markdown",
      "source": [
        "### Se tomaron del conjunto de datos *df_airbnb* las variables relevantes: price, weekly_price, monthly_price, zipcode y se formo: *airbnb_price_by_zipcode* con columnas adicionales *(media y conteo)*:"
      ],
      "metadata": {
        "id": "Z7KdNFYCRqtt"
      }
    },
    {
      "cell_type": "code",
      "source": [
        "relevant_cols = ['price', 'weekly_price', 'monthly_price', 'zipcode']\n",
        "## Option:\n",
        "# Pass as argument name the new name of the column, and as value a tuple where\n",
        "# the first value is the original column and the second value is the operation.\n",
        "airbnb_price_by_zipcode = df_airbnb[relevant_cols].groupby('zipcode')\\\n",
        "  .agg(airbnb_record_count=('price', 'count'),\n",
        "       airbnb_price_mean=('price', 'mean'),\n",
        "       airbnb_price_median=('price', 'median'),\n",
        "       airbnb_weekly_price_mean=('weekly_price', 'mean'),\n",
        "       airbnb_weekly_price_median=('weekly_price', 'median'),\n",
        "       airbnb_monthly_price_mean=('monthly_price', 'mean'),\n",
        "       airbnb_monthly_price_median=('monthly_price', 'median'))\\\n",
        "  .reset_index()\n",
        "\n",
        "\n",
        "print(f'Forma airbnb_price_by_zipcode \\n: {airbnb_price_by_zipcode.shape}')"
      ],
      "metadata": {
        "colab": {
          "base_uri": "https://localhost:8080/"
        },
        "id": "aSf5YS2jJXic",
        "outputId": "4a18de12-6c2e-42b9-99de-b2b1b5be7ca9"
      },
      "execution_count": 33,
      "outputs": [
        {
          "output_type": "stream",
          "name": "stdout",
          "text": [
            "Forma airbnb_price_by_zipcode \n",
            ": (247, 8)\n"
          ]
        }
      ]
    },
    {
      "cell_type": "code",
      "source": [
        "airbnb_price_by_zipcode.isna().sum()"
      ],
      "metadata": {
        "colab": {
          "base_uri": "https://localhost:8080/"
        },
        "id": "2ImlcQLkYSqy",
        "outputId": "04e5f312-0454-4648-a75a-28ba296bfab4"
      },
      "execution_count": 34,
      "outputs": [
        {
          "output_type": "execute_result",
          "data": {
            "text/plain": [
              "zipcode                         0\n",
              "airbnb_record_count             0\n",
              "airbnb_price_mean               0\n",
              "airbnb_price_median             0\n",
              "airbnb_weekly_price_mean       63\n",
              "airbnb_weekly_price_median     63\n",
              "airbnb_monthly_price_mean      79\n",
              "airbnb_monthly_price_median    79\n",
              "dtype: int64"
            ]
          },
          "metadata": {},
          "execution_count": 34
        }
      ]
    },
    {
      "cell_type": "markdown",
      "source": [
        "### *Al consultar el paso anterior, decidimos tomar las variables de interés, dado que son las más completas:\n",
        "- zipcode                        \n",
        "- airbnb_record_count            \n",
        "- airbnb_price_mean               \n",
        "- airbnb_price_median            \n",
        "\n"
      ],
      "metadata": {
        "id": "hx2ApJgEt7Jg"
      }
    },
    {
      "cell_type": "code",
      "source": [
        "airbnb_price_by_zipcode = airbnb_price_by_zipcode.dropna(axis=1)"
      ],
      "metadata": {
        "id": "09TvWa8Cu1Gf"
      },
      "execution_count": 35,
      "outputs": []
    },
    {
      "cell_type": "code",
      "source": [
        "airbnb_price_by_zipcode.isna().sum()"
      ],
      "metadata": {
        "colab": {
          "base_uri": "https://localhost:8080/"
        },
        "id": "xjYvG3xqtxDP",
        "outputId": "39028c90-fd88-4cec-e9d8-32189d51b012"
      },
      "execution_count": 36,
      "outputs": [
        {
          "output_type": "execute_result",
          "data": {
            "text/plain": [
              "zipcode                0\n",
              "airbnb_record_count    0\n",
              "airbnb_price_mean      0\n",
              "airbnb_price_median    0\n",
              "dtype: int64"
            ]
          },
          "metadata": {},
          "execution_count": 36
        }
      ]
    },
    {
      "cell_type": "markdown",
      "source": [
        "### * Dado el anterior se realiza el merge a partir de zipcode:"
      ],
      "metadata": {
        "id": "3eTE3x8YVtbP"
      }
    },
    {
      "cell_type": "code",
      "source": [
        "# Merge:\n",
        "df_merged_sales = df_melb_perc.merge(airbnb_price_by_zipcode, how='left',\\\n",
        "    left_on='Postcode', right_on='zipcode')\n"
      ],
      "metadata": {
        "id": "ha-rLw4P__a0"
      },
      "execution_count": 37,
      "outputs": []
    },
    {
      "cell_type": "code",
      "source": [
        "# Consultando valores nulos:\n",
        "missing_values_count = df_merged_sales['airbnb_price_mean'].isna().sum()\n",
        "missing_values_count"
      ],
      "metadata": {
        "colab": {
          "base_uri": "https://localhost:8080/"
        },
        "id": "1P5W3Jd1Qwmc",
        "outputId": "17e7ae9c-11eb-41ce-ebf2-1d74fa9eebd8"
      },
      "execution_count": 38,
      "outputs": [
        {
          "output_type": "execute_result",
          "data": {
            "text/plain": [
              "17"
            ]
          },
          "metadata": {},
          "execution_count": 38
        }
      ]
    },
    {
      "cell_type": "markdown",
      "source": [
        "### * Investigar al menos otras 2 variables que puedan servir para combinar los datos, y justificar si serían adecuadas o no. Pueden asumir que cuentan con la ayuda de anotadores expertos para encontrar equivalencias entre barrios o direcciones, o que cuentan con algoritmos para encontrar las n ubicaciones más cercanas a una propiedad a partir de sus coordenadas geográficas.\n",
        "\n",
        "### - Rta//: Para investigar otras 2 variables que puedan servir para combinar los datos, se muestran la cantidad de registros y variables disponibles en cada una de ellas:"
      ],
      "metadata": {
        "id": "q-Ik8b8yRl0q"
      }
    },
    {
      "cell_type": "code",
      "source": [
        "print(f'Variables posibles en df_airbnb: \\n{df_airbnb.nunique()}\\n')\n",
        "print('----- ----- ----- ----- ----- ----- ----- ----- ----- ----- ----- ----- ----- ----- ----- ----- ')\n",
        "print(f'Variables posibles en df_melb_perc: \\n{df_melb_perc.nunique()}')\n"
      ],
      "metadata": {
        "colab": {
          "base_uri": "https://localhost:8080/"
        },
        "id": "PvbXlIJzZFz0",
        "outputId": "2d9a069f-446c-4f46-9ca5-b1a0396c4c7a"
      },
      "execution_count": 39,
      "outputs": [
        {
          "output_type": "stream",
          "name": "stdout",
          "text": [
            "Variables posibles en df_airbnb: \n",
            "description              21545\n",
            "neighborhood_overview    11973\n",
            "street                     628\n",
            "neighborhood                59\n",
            "city                        30\n",
            "suburb                     535\n",
            "state                       26\n",
            "zipcode                    247\n",
            "latitude                 22732\n",
            "longitude                22561\n",
            "price                      458\n",
            "weekly_price               593\n",
            "monthly_price              632\n",
            "zipcode_count              113\n",
            "dtype: int64\n",
            "\n",
            "----- ----- ----- ----- ----- ----- ----- ----- ----- ----- ----- ----- ----- ----- ----- ----- \n",
            "Variables posibles en df_melb_perc: \n",
            "Suburb             310\n",
            "Address          12046\n",
            "Rooms                9\n",
            "Type                 3\n",
            "Price             1762\n",
            "Method               5\n",
            "SellerG            257\n",
            "Date                58\n",
            "Distance           200\n",
            "Postcode           196\n",
            "Bedroom2            12\n",
            "Bathroom             8\n",
            "Car                 11\n",
            "Landsize          1337\n",
            "BuildingArea       534\n",
            "YearBuilt          134\n",
            "CouncilArea         32\n",
            "Lattitude         6145\n",
            "Longtitude        6678\n",
            "Regionname           8\n",
            "Propertycount      307\n",
            "dtype: int64\n"
          ]
        }
      ]
    },
    {
      "cell_type": "markdown",
      "source": [
        "### * De los anteriores notamos variables presentes en ambos conjuntos como: suburbio, combinación de: latitud-longitud.\n",
        "\n",
        "### * Criterio 1: *coincidencias* en los registros/variables. "
      ],
      "metadata": {
        "id": "hMofk4uOcHfB"
      }
    },
    {
      "cell_type": "code",
      "source": [
        "int_suburb = np.isin(df_melb_perc.Suburb,df_airbnb.suburb, assume_unique=True)\n",
        "print(f'Registros en las bases de datos que presentan correspondencia:\\n  {sum(int_suburb)}')"
      ],
      "metadata": {
        "colab": {
          "base_uri": "https://localhost:8080/"
        },
        "id": "w84LmgvUeTQ0",
        "outputId": "86df7eb5-a4ee-4c79-d5d8-ad88783351cd"
      },
      "execution_count": 40,
      "outputs": [
        {
          "output_type": "stream",
          "name": "stdout",
          "text": [
            "Registros en las bases de datos que presentan correspondencia:\n",
            "  12099\n"
          ]
        }
      ]
    },
    {
      "cell_type": "markdown",
      "source": [
        "### * Criterio 2: *exploración visual* considerando a la información geográfica como un criterio para combinar los conjuntos de datos, y verificando que los registros se tratan de zonas similares."
      ],
      "metadata": {
        "id": "DAFDaUx4vorc"
      }
    },
    {
      "cell_type": "code",
      "source": [
        "fig, ax = plt.subplots(facecolor='white')\n",
        "fig.set_size_inches(15,8)\n",
        "ax.scatter(df_airbnb[\"latitude\"], df_airbnb[\"longitude\"], marker=\".\",color='magenta', alpha = 0.6, label='Airbnb')\n",
        "ax.scatter(df_melb_perc[\"Lattitude\"], df_melb_perc[\"Longtitude\"], marker=\".\", color='darkblue', alpha = 0.2, label='Sales')\n",
        "ax.legend()\n",
        "ax.set_xlabel(\"Latitud\")\n",
        "ax.set_ylabel(\"Longitud\")\n",
        "plt.title(\"Melbourne Sales/Airbnb\")\n",
        "\n",
        "plt.show()\n"
      ],
      "metadata": {
        "colab": {
          "base_uri": "https://localhost:8080/",
          "height": 538
        },
        "id": "D9gbxaygOa82",
        "outputId": "cfb3855f-b562-41c8-dae1-8af71f77dca5"
      },
      "execution_count": 41,
      "outputs": [
        {
          "output_type": "display_data",
          "data": {
            "text/plain": [
              "<Figure size 1080x576 with 1 Axes>"
            ],
            "image/png": "[encoded data removed]"
          },
          "metadata": {}
        }
      ]
    },
    {
      "cell_type": "markdown",
      "source": [
        "### *Antes de finalizar el ejercicio se realiza el reconocimiento de los valores faltantes:"
      ],
      "metadata": {
        "id": "cJepKTbNZmSG"
      }
    },
    {
      "cell_type": "code",
      "source": [
        "df_merged_sales.info()\n"
      ],
      "metadata": {
        "id": "uWQHx8p8ckci",
        "outputId": "121d80fd-4336-439e-c62b-7ed4bf03863a",
        "colab": {
          "base_uri": "https://localhost:8080/"
        }
      },
      "execution_count": 42,
      "outputs": [
        {
          "output_type": "stream",
          "name": "stdout",
          "text": [
            "<class 'pandas.core.frame.DataFrame'>\n",
            "Int64Index: 12214 entries, 0 to 12213\n",
            "Data columns (total 25 columns):\n",
            " #   Column               Non-Null Count  Dtype  \n",
            "---  ------               --------------  -----  \n",
            " 0   Suburb               12214 non-null  object \n",
            " 1   Address              12214 non-null  object \n",
            " 2   Rooms                12214 non-null  int64  \n",
            " 3   Type                 12214 non-null  object \n",
            " 4   Price                12214 non-null  float64\n",
            " 5   Method               12214 non-null  object \n",
            " 6   SellerG              12214 non-null  object \n",
            " 7   Date                 12214 non-null  object \n",
            " 8   Distance             12214 non-null  float64\n",
            " 9   Postcode             12214 non-null  float64\n",
            " 10  Bedroom2             12214 non-null  float64\n",
            " 11  Bathroom             12214 non-null  float64\n",
            " 12  Car                  12155 non-null  float64\n",
            " 13  Landsize             12214 non-null  float64\n",
            " 14  BuildingArea         6352 non-null   float64\n",
            " 15  YearBuilt            7280 non-null   float64\n",
            " 16  CouncilArea          10951 non-null  object \n",
            " 17  Lattitude            12214 non-null  float64\n",
            " 18  Longtitude           12214 non-null  float64\n",
            " 19  Regionname           12214 non-null  object \n",
            " 20  Propertycount        12214 non-null  float64\n",
            " 21  zipcode              12197 non-null  float64\n",
            " 22  airbnb_record_count  12197 non-null  float64\n",
            " 23  airbnb_price_mean    12197 non-null  float64\n",
            " 24  airbnb_price_median  12197 non-null  float64\n",
            "dtypes: float64(16), int64(1), object(8)\n",
            "memory usage: 2.4+ MB\n"
          ]
        }
      ]
    },
    {
      "cell_type": "code",
      "source": [
        "missing_values_count = df_merged_sales.isna().sum()\n",
        "missing_values_count"
      ],
      "metadata": {
        "id": "bgI8vYRlc1j-",
        "outputId": "7a7e49c7-dfa8-486a-a92d-62900f9188e8",
        "colab": {
          "base_uri": "https://localhost:8080/"
        }
      },
      "execution_count": 43,
      "outputs": [
        {
          "output_type": "execute_result",
          "data": {
            "text/plain": [
              "Suburb                    0\n",
              "Address                   0\n",
              "Rooms                     0\n",
              "Type                      0\n",
              "Price                     0\n",
              "Method                    0\n",
              "SellerG                   0\n",
              "Date                      0\n",
              "Distance                  0\n",
              "Postcode                  0\n",
              "Bedroom2                  0\n",
              "Bathroom                  0\n",
              "Car                      59\n",
              "Landsize                  0\n",
              "BuildingArea           5862\n",
              "YearBuilt              4934\n",
              "CouncilArea            1263\n",
              "Lattitude                 0\n",
              "Longtitude                0\n",
              "Regionname                0\n",
              "Propertycount             0\n",
              "zipcode                  17\n",
              "airbnb_record_count      17\n",
              "airbnb_price_mean        17\n",
              "airbnb_price_median      17\n",
              "dtype: int64"
            ]
          },
          "metadata": {},
          "execution_count": 43
        }
      ]
    },
    {
      "cell_type": "code",
      "source": [
        "cols = df_merged_sales[df_merged_sales == 0].count(axis=0)\n",
        "print(cols)\n",
        "cols[cols > 0]"
      ],
      "metadata": {
        "id": "Tl0HBD5YcILG",
        "outputId": "93faec1e-0fb2-41a1-a03b-230e985423e2",
        "colab": {
          "base_uri": "https://localhost:8080/"
        }
      },
      "execution_count": 44,
      "outputs": [
        {
          "output_type": "stream",
          "name": "stdout",
          "text": [
            "Suburb                    0\n",
            "Address                   0\n",
            "Rooms                     0\n",
            "Type                      0\n",
            "Price                     0\n",
            "Method                    0\n",
            "SellerG                   0\n",
            "Date                      0\n",
            "Distance                  5\n",
            "Postcode                  0\n",
            "Bedroom2                 15\n",
            "Bathroom                 33\n",
            "Car                     938\n",
            "Landsize               1528\n",
            "BuildingArea             13\n",
            "YearBuilt                 0\n",
            "CouncilArea               0\n",
            "Lattitude                 0\n",
            "Longtitude                0\n",
            "Regionname                0\n",
            "Propertycount             0\n",
            "zipcode                   0\n",
            "airbnb_record_count       0\n",
            "airbnb_price_mean         0\n",
            "airbnb_price_median       0\n",
            "dtype: int64\n"
          ]
        },
        {
          "output_type": "execute_result",
          "data": {
            "text/plain": [
              "Distance           5\n",
              "Bedroom2          15\n",
              "Bathroom          33\n",
              "Car              938\n",
              "Landsize        1528\n",
              "BuildingArea      13\n",
              "dtype: int64"
            ]
          },
          "metadata": {},
          "execution_count": 44
        }
      ]
    },
    {
      "cell_type": "code",
      "source": [
        "# how many total missing values do we have?\n",
        "total_cells = np.product(df_merged_sales.shape)\n",
        "total_missing = missing_values_count.sum()\n",
        "\n",
        "# percent of data that is missing\n",
        "print(f'porcentaje de faltantes en la base de datos: {((total_missing/total_cells) * 100):2f}')"
      ],
      "metadata": {
        "id": "o95ENP3RdRX_",
        "outputId": "7b7e6b49-19c2-4eb3-e43d-7d15d8c92f4c",
        "colab": {
          "base_uri": "https://localhost:8080/"
        }
      },
      "execution_count": 45,
      "outputs": [
        {
          "output_type": "stream",
          "name": "stdout",
          "text": [
            "porcentaje de faltantes en la base de datos: 3.990830\n"
          ]
        }
      ]
    },
    {
      "cell_type": "code",
      "source": [
        "import missingno as msno\n",
        "\n",
        "msno.matrix(df_merged_sales,figsize=(12, 6), fontsize=12, color=[0,0,0.2])"
      ],
      "metadata": {
        "id": "wKor4zq4ZMqF",
        "outputId": "7e9cf50b-63e7-4123-b1e6-b70b20077133",
        "colab": {
          "base_uri": "https://localhost:8080/",
          "height": 494
        }
      },
      "execution_count": 47,
      "outputs": [
        {
          "output_type": "execute_result",
          "data": {
            "text/plain": [
              "<matplotlib.axes._subplots.AxesSubplot at 0x7f1716caab10>"
            ]
          },
          "metadata": {},
          "execution_count": 47
        },
        {
          "output_type": "display_data",
          "data": {
            "text/plain": [
              "<Figure size 864x432 with 2 Axes>"
            ],
            "image/png": "[encoded data removed]"
          },
          "metadata": {
            "needs_background": "light"
          }
        }
      ]
    },
    {
      "cell_type": "markdown",
      "source": [
        "### *Notamos que zipcode/airbnb_price_median/airbnb_record_count/airbnb_price_mean, presentan la misma cantidad de registros faltantes, así que decidimos eliminarlos:"
      ],
      "metadata": {
        "id": "8BYIDjPk4DxY"
      }
    },
    {
      "cell_type": "code",
      "source": [
        "sorted = df_merged_sales.sort_values('zipcode')\n",
        "msno.matrix(sorted,figsize=(12, 6), fontsize=12, color=[0.5,0,0])"
      ],
      "metadata": {
        "colab": {
          "base_uri": "https://localhost:8080/",
          "height": 494
        },
        "id": "mkt0Y09D4TdF",
        "outputId": "91b948aa-4b96-493c-8852-945e6c5967be"
      },
      "execution_count": 48,
      "outputs": [
        {
          "output_type": "execute_result",
          "data": {
            "text/plain": [
              "<matplotlib.axes._subplots.AxesSubplot at 0x7f1716b3cf10>"
            ]
          },
          "metadata": {},
          "execution_count": 48
        },
        {
          "output_type": "display_data",
          "data": {
            "text/plain": [
              "<Figure size 864x432 with 2 Axes>"
            ],
            "image/png": "[encoded data removed]"
          },
          "metadata": {
            "needs_background": "light"
          }
        }
      ]
    },
    {
      "cell_type": "code",
      "source": [
        "# Eliminando los registros faltantes por zipcode\n",
        "df_merged_sales.dropna(subset=['zipcode'],how='any',inplace=True)\n",
        "df_merged_sales['zipcode'].isnull().sum()"
      ],
      "metadata": {
        "colab": {
          "base_uri": "https://localhost:8080/"
        },
        "id": "cvLDAH9W4-cc",
        "outputId": "0ac5fcb5-ba61-4e63-db79-4202ef95a670"
      },
      "execution_count": 49,
      "outputs": [
        {
          "output_type": "execute_result",
          "data": {
            "text/plain": [
              "0"
            ]
          },
          "metadata": {},
          "execution_count": 49
        }
      ]
    },
    {
      "cell_type": "markdown",
      "source": [
        "### *Heatmap de correlaciones entre las columnas que tienen datos faltantes. Donde hay que tener presente que la correlación toma valores entre -1 y 1 (casos):\n",
        "- -1 -> Correlación negativa exacta, implica que si el valor de una variable está presente, en la otra esta ausente.\n",
        "- 0 -> Falta de correlación, implica que no se puede ver una relación lineal.\n",
        "- 1 -> Correlación positiva exacta, implica que si una variable tiene valor, en la otra definitivamente va a tomar valor también."
      ],
      "metadata": {
        "id": "kC4O_WHUplel"
      }
    },
    {
      "cell_type": "code",
      "source": [
        "msno.heatmap(df_merged_sales,figsize=(12, 6), fontsize=12)"
      ],
      "metadata": {
        "id": "NYUrJl7-blmL",
        "outputId": "10de7d61-a934-4b0b-a88a-2ee750834e8d",
        "colab": {
          "base_uri": "https://localhost:8080/",
          "height": 457
        }
      },
      "execution_count": 50,
      "outputs": [
        {
          "output_type": "execute_result",
          "data": {
            "text/plain": [
              "<matplotlib.axes._subplots.AxesSubplot at 0x7f17128ab490>"
            ]
          },
          "metadata": {},
          "execution_count": 50
        },
        {
          "output_type": "display_data",
          "data": {
            "text/plain": [
              "<Figure size 864x432 with 2 Axes>"
            ],
            "image/png": "[encoded data removed]"
          },
          "metadata": {
            "needs_background": "light"
          }
        }
      ]
    },
    {
      "cell_type": "markdown",
      "source": [
        "### Del anterior notamos que la aleatoriedad no es completa, pues hay alta correlación entre YearBuilt y BuildingArea. A su vez consideramos eliminar los registros de la variable Car (presenta pérdida completamente aleatoria)."
      ],
      "metadata": {
        "id": "d5UgJ8IApYvv"
      }
    },
    {
      "cell_type": "code",
      "source": [
        "# Eliminación de casos completos:\n",
        "df_merged_sales.dropna(subset=['Car'],how='any',inplace=True)\n",
        "df_merged_sales['Car'].isnull().sum()"
      ],
      "metadata": {
        "colab": {
          "base_uri": "https://localhost:8080/"
        },
        "id": "XOuMMmkw0LgM",
        "outputId": "58f9b3ba-3cc3-4af7-d498-3e8728aa693d"
      },
      "execution_count": 51,
      "outputs": [
        {
          "output_type": "execute_result",
          "data": {
            "text/plain": [
              "0"
            ]
          },
          "metadata": {},
          "execution_count": 51
        }
      ]
    },
    {
      "cell_type": "markdown",
      "source": [
        "### *Consultamos la base de datos resultante:\n"
      ],
      "metadata": {
        "id": "feWg0hxQ0MaH"
      }
    },
    {
      "cell_type": "code",
      "source": [
        "msno.bar(df_merged_sales,figsize=(12, 6), sort=\"ascending\",fontsize=12, color='tab:green',) "
      ],
      "metadata": {
        "colab": {
          "base_uri": "https://localhost:8080/",
          "height": 533
        },
        "id": "bsgTKaLLBHOV",
        "outputId": "dc3f2a98-084d-4b6b-8d2b-e7ae670cea4b"
      },
      "execution_count": 54,
      "outputs": [
        {
          "output_type": "execute_result",
          "data": {
            "text/plain": [
              "<matplotlib.axes._subplots.AxesSubplot at 0x7f171285b4d0>"
            ]
          },
          "metadata": {},
          "execution_count": 54
        },
        {
          "output_type": "display_data",
          "data": {
            "text/plain": [
              "<Figure size 864x432 with 3 Axes>"
            ],
            "image/png": "[encoded data removed]"
          },
          "metadata": {
            "needs_background": "light"
          }
        }
      ]
    },
    {
      "cell_type": "markdown",
      "source": [
        "### * Del anterior, podemos notar que Building Area, YearBuilt, CouncilArea, aún presentan valores faltantes, estos seran editados en la segunda parte del práctico."
      ],
      "metadata": {
        "id": "5nWgTMG2DLeY"
      }
    },
    {
      "cell_type": "markdown",
      "source": [
        "### 3. Crear y guardar un nuevo conjunto de datos con todas las transformaciones realizadas anteriormente.\n",
        "\n",
        "### Rta//:"
      ],
      "metadata": {
        "id": "MFYzqojB4s5G"
      }
    },
    {
      "cell_type": "code",
      "source": [
        "# Guardando el conjunto de datos:\n",
        "df_merged_sales.to_csv(\"melb_data_extended.csv\", index=None)\n",
        "\n",
        "\n",
        "from google.colab import files\n",
        "files.download('melb_data_extended.csv') "
      ],
      "metadata": {
        "id": "18pie-bgWW1S",
        "colab": {
          "base_uri": "https://localhost:8080/",
          "height": 17
        },
        "outputId": "3e1e9faf-7756-4c84-9e34-d7b015fa3d15"
      },
      "execution_count": 56,
      "outputs": [
        {
          "output_type": "display_data",
          "data": {
            "text/plain": [
              "<IPython.core.display.Javascript object>"
            ],
            "application/javascript": [
              "\n",
              "    async function download(id, filename, size) {\n",
              "      if (!google.colab.kernel.accessAllowed) {\n",
              "        return;\n",
              "      }\n",
              "      const div = document.createElement('div');\n",
              "      const label = document.createElement('label');\n",
              "      label.textContent = `Downloading \"${filename}\": `;\n",
              "      div.appendChild(label);\n",
              "      const progress = document.createElement('progress');\n",
              "      progress.max = size;\n",
              "      div.appendChild(progress);\n",
              "      document.body.appendChild(div);\n",
              "\n",
              "      const buffers = [];\n",
              "      let downloaded = 0;\n",
              "\n",
              "      const channel = await google.colab.kernel.comms.open(id);\n",
              "      // Send a message to notify the kernel that we're ready.\n",
              "      channel.send({})\n",
              "\n",
              "      for await (const message of channel.messages) {\n",
              "        // Send a message to notify the kernel that we're ready.\n",
              "        channel.send({})\n",
              "        if (message.buffers) {\n",
              "          for (const buffer of message.buffers) {\n",
              "            buffers.push(buffer);\n",
              "            downloaded += buffer.byteLength;\n",
              "            progress.value = downloaded;\n",
              "          }\n",
              "        }\n",
              "      }\n",
              "      const blob = new Blob(buffers, {type: 'application/binary'});\n",
              "      const a = document.createElement('a');\n",
              "      a.href = window.URL.createObjectURL(blob);\n",
              "      a.download = filename;\n",
              "      div.appendChild(a);\n",
              "      a.click();\n",
              "      div.remove();\n",
              "    }\n",
              "  "
            ]
          },
          "metadata": {}
        },
        {
          "output_type": "display_data",
          "data": {
            "text/plain": [
              "<IPython.core.display.Javascript object>"
            ],
            "application/javascript": [
              "download(\"download_4673264c-4dbb-4851-900f-f781c7b98803\", \"melb_data_extended.csv\", 2291438)"
            ]
          },
          "metadata": {}
        }
      ]
    }
  ]
}